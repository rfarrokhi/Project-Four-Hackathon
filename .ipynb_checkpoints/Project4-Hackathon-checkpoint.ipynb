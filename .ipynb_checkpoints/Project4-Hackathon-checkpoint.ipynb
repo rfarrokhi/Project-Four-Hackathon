{
 "cells": [
  {
   "cell_type": "markdown",
   "metadata": {},
   "source": [
    "**Note**: Breast Cancer Wisconsin (Diagnostic) Data Set"
   ]
  },
  {
   "cell_type": "markdown",
   "metadata": {},
   "source": [
    "### Breast Cancer Prediction"
   ]
  },
  {
   "cell_type": "code",
   "execution_count": null,
   "metadata": {},
   "outputs": [],
   "source": []
  },
  {
   "cell_type": "markdown",
   "metadata": {},
   "source": [
    "### Features description\n",
    "\n",
    "1. id: ID number \n",
    "2. label: The diagnosis of breast tissues (M = malignant, B = benign)\n",
    "3. radius: mean of distances from center to points on the perimeter\n",
    "4. texture: standard deviation of gray-scale values\n",
    "5. perimeter: boundary of a certain place - mean size of the core tumor\n",
    "6. area: occupation space by a certain place\n",
    "7. smoothness: local variation in radius lengths\n",
    "8. compactness: is equal to (perimeter^2 / area - 1.0)\n",
    "9. concavity: severity of concave portions of the contour\n",
    "9. concave: \n",
    "10. points: number of concave portions of the contour\n",
    "11. symmetry:\n",
    "12. fractal: \n",
    "13. dimension: (\"coastline approximation\" - 1)"
   ]
  },
  {
   "cell_type": "code",
   "execution_count": 149,
   "metadata": {},
   "outputs": [
    {
     "data": {
      "application/javascript": [
       "IPython.notebook.set_autosave_interval(180000)"
      ]
     },
     "metadata": {},
     "output_type": "display_data"
    },
    {
     "name": "stdout",
     "output_type": "stream",
     "text": [
      "Autosaving every 180 seconds\n"
     ]
    }
   ],
   "source": [
    "%pwd\n",
    "%autosave 180"
   ]
  },
  {
   "cell_type": "code",
   "execution_count": 27,
   "metadata": {},
   "outputs": [],
   "source": [
    "path_file = 'datasetcsv.csv'"
   ]
  },
  {
   "cell_type": "code",
   "execution_count": 28,
   "metadata": {},
   "outputs": [],
   "source": [
    "import pandas as pd\n",
    "\n",
    "df = pd.read_csv(path_file)"
   ]
  },
  {
   "cell_type": "code",
   "execution_count": 29,
   "metadata": {},
   "outputs": [
    {
     "data": {
      "text/html": [
       "<div>\n",
       "<style scoped>\n",
       "    .dataframe tbody tr th:only-of-type {\n",
       "        vertical-align: middle;\n",
       "    }\n",
       "\n",
       "    .dataframe tbody tr th {\n",
       "        vertical-align: top;\n",
       "    }\n",
       "\n",
       "    .dataframe thead th {\n",
       "        text-align: right;\n",
       "    }\n",
       "</style>\n",
       "<table border=\"1\" class=\"dataframe\">\n",
       "  <thead>\n",
       "    <tr style=\"text-align: right;\">\n",
       "      <th></th>\n",
       "      <th>id</th>\n",
       "      <th>Label</th>\n",
       "      <th>radius</th>\n",
       "      <th>texture</th>\n",
       "      <th>perimeter</th>\n",
       "      <th>area</th>\n",
       "      <th>smoothness</th>\n",
       "      <th>compactness</th>\n",
       "      <th>concavity</th>\n",
       "      <th>concave</th>\n",
       "      <th>...</th>\n",
       "      <th>unknown.8</th>\n",
       "      <th>unknown.9</th>\n",
       "      <th>unknown.10</th>\n",
       "      <th>unknown.11</th>\n",
       "      <th>unknown.12</th>\n",
       "      <th>unknown.13</th>\n",
       "      <th>unknown.14</th>\n",
       "      <th>unknown.15</th>\n",
       "      <th>unknown.16</th>\n",
       "      <th>unknown.17</th>\n",
       "    </tr>\n",
       "  </thead>\n",
       "  <tbody>\n",
       "    <tr>\n",
       "      <th>0</th>\n",
       "      <td>842302</td>\n",
       "      <td>M</td>\n",
       "      <td>17.99</td>\n",
       "      <td>10.38</td>\n",
       "      <td>122.80</td>\n",
       "      <td>1001.0</td>\n",
       "      <td>0.11840</td>\n",
       "      <td>0.27760</td>\n",
       "      <td>0.3001</td>\n",
       "      <td>0.14710</td>\n",
       "      <td>...</td>\n",
       "      <td>25.38</td>\n",
       "      <td>17.33</td>\n",
       "      <td>184.60</td>\n",
       "      <td>2019.0</td>\n",
       "      <td>0.1622</td>\n",
       "      <td>0.6656</td>\n",
       "      <td>0.7119</td>\n",
       "      <td>0.2654</td>\n",
       "      <td>0.4601</td>\n",
       "      <td>0.11890</td>\n",
       "    </tr>\n",
       "    <tr>\n",
       "      <th>1</th>\n",
       "      <td>842517</td>\n",
       "      <td>M</td>\n",
       "      <td>20.57</td>\n",
       "      <td>17.77</td>\n",
       "      <td>132.90</td>\n",
       "      <td>1326.0</td>\n",
       "      <td>0.08474</td>\n",
       "      <td>0.07864</td>\n",
       "      <td>0.0869</td>\n",
       "      <td>0.07017</td>\n",
       "      <td>...</td>\n",
       "      <td>24.99</td>\n",
       "      <td>23.41</td>\n",
       "      <td>158.80</td>\n",
       "      <td>1956.0</td>\n",
       "      <td>0.1238</td>\n",
       "      <td>0.1866</td>\n",
       "      <td>0.2416</td>\n",
       "      <td>0.1860</td>\n",
       "      <td>0.2750</td>\n",
       "      <td>0.08902</td>\n",
       "    </tr>\n",
       "    <tr>\n",
       "      <th>2</th>\n",
       "      <td>84300903</td>\n",
       "      <td>M</td>\n",
       "      <td>19.69</td>\n",
       "      <td>21.25</td>\n",
       "      <td>130.00</td>\n",
       "      <td>1203.0</td>\n",
       "      <td>0.10960</td>\n",
       "      <td>0.15990</td>\n",
       "      <td>0.1974</td>\n",
       "      <td>0.12790</td>\n",
       "      <td>...</td>\n",
       "      <td>23.57</td>\n",
       "      <td>25.53</td>\n",
       "      <td>152.50</td>\n",
       "      <td>1709.0</td>\n",
       "      <td>0.1444</td>\n",
       "      <td>0.4245</td>\n",
       "      <td>0.4504</td>\n",
       "      <td>0.2430</td>\n",
       "      <td>0.3613</td>\n",
       "      <td>0.08758</td>\n",
       "    </tr>\n",
       "    <tr>\n",
       "      <th>3</th>\n",
       "      <td>84348301</td>\n",
       "      <td>M</td>\n",
       "      <td>11.42</td>\n",
       "      <td>20.38</td>\n",
       "      <td>77.58</td>\n",
       "      <td>386.1</td>\n",
       "      <td>0.14250</td>\n",
       "      <td>0.28390</td>\n",
       "      <td>0.2414</td>\n",
       "      <td>0.10520</td>\n",
       "      <td>...</td>\n",
       "      <td>14.91</td>\n",
       "      <td>26.50</td>\n",
       "      <td>98.87</td>\n",
       "      <td>567.7</td>\n",
       "      <td>0.2098</td>\n",
       "      <td>0.8663</td>\n",
       "      <td>0.6869</td>\n",
       "      <td>0.2575</td>\n",
       "      <td>0.6638</td>\n",
       "      <td>0.17300</td>\n",
       "    </tr>\n",
       "    <tr>\n",
       "      <th>4</th>\n",
       "      <td>84358402</td>\n",
       "      <td>M</td>\n",
       "      <td>20.29</td>\n",
       "      <td>14.34</td>\n",
       "      <td>135.10</td>\n",
       "      <td>1297.0</td>\n",
       "      <td>0.10030</td>\n",
       "      <td>0.13280</td>\n",
       "      <td>0.1980</td>\n",
       "      <td>0.10430</td>\n",
       "      <td>...</td>\n",
       "      <td>22.54</td>\n",
       "      <td>16.67</td>\n",
       "      <td>152.20</td>\n",
       "      <td>1575.0</td>\n",
       "      <td>0.1374</td>\n",
       "      <td>0.2050</td>\n",
       "      <td>0.4000</td>\n",
       "      <td>0.1625</td>\n",
       "      <td>0.2364</td>\n",
       "      <td>0.07678</td>\n",
       "    </tr>\n",
       "  </tbody>\n",
       "</table>\n",
       "<p>5 rows × 32 columns</p>\n",
       "</div>"
      ],
      "text/plain": [
       "         id Label  radius   texture  perimeter    area  smoothness   \\\n",
       "0    842302     M    17.99    10.38     122.80  1001.0      0.11840   \n",
       "1    842517     M    20.57    17.77     132.90  1326.0      0.08474   \n",
       "2  84300903     M    19.69    21.25     130.00  1203.0      0.10960   \n",
       "3  84348301     M    11.42    20.38      77.58   386.1      0.14250   \n",
       "4  84358402     M    20.29    14.34     135.10  1297.0      0.10030   \n",
       "\n",
       "   compactness   concavity  concave    ...  unknown.8  unknown.9  unknown.10  \\\n",
       "0       0.27760     0.3001    0.14710  ...      25.38      17.33      184.60   \n",
       "1       0.07864     0.0869    0.07017  ...      24.99      23.41      158.80   \n",
       "2       0.15990     0.1974    0.12790  ...      23.57      25.53      152.50   \n",
       "3       0.28390     0.2414    0.10520  ...      14.91      26.50       98.87   \n",
       "4       0.13280     0.1980    0.10430  ...      22.54      16.67      152.20   \n",
       "\n",
       "   unknown.11  unknown.12  unknown.13  unknown.14  unknown.15  unknown.16  \\\n",
       "0      2019.0      0.1622      0.6656      0.7119      0.2654      0.4601   \n",
       "1      1956.0      0.1238      0.1866      0.2416      0.1860      0.2750   \n",
       "2      1709.0      0.1444      0.4245      0.4504      0.2430      0.3613   \n",
       "3       567.7      0.2098      0.8663      0.6869      0.2575      0.6638   \n",
       "4      1575.0      0.1374      0.2050      0.4000      0.1625      0.2364   \n",
       "\n",
       "   unknown.17  \n",
       "0     0.11890  \n",
       "1     0.08902  \n",
       "2     0.08758  \n",
       "3     0.17300  \n",
       "4     0.07678  \n",
       "\n",
       "[5 rows x 32 columns]"
      ]
     },
     "execution_count": 29,
     "metadata": {},
     "output_type": "execute_result"
    }
   ],
   "source": [
    "df.head()"
   ]
  },
  {
   "cell_type": "code",
   "execution_count": 30,
   "metadata": {
    "scrolled": true
   },
   "outputs": [
    {
     "data": {
      "text/html": [
       "<div>\n",
       "<style scoped>\n",
       "    .dataframe tbody tr th:only-of-type {\n",
       "        vertical-align: middle;\n",
       "    }\n",
       "\n",
       "    .dataframe tbody tr th {\n",
       "        vertical-align: top;\n",
       "    }\n",
       "\n",
       "    .dataframe thead th {\n",
       "        text-align: right;\n",
       "    }\n",
       "</style>\n",
       "<table border=\"1\" class=\"dataframe\">\n",
       "  <thead>\n",
       "    <tr style=\"text-align: right;\">\n",
       "      <th></th>\n",
       "      <th>id</th>\n",
       "      <th>Label</th>\n",
       "      <th>radius</th>\n",
       "      <th>texture</th>\n",
       "      <th>perimeter</th>\n",
       "      <th>area</th>\n",
       "      <th>smoothness</th>\n",
       "      <th>compactness</th>\n",
       "      <th>concavity</th>\n",
       "      <th>concave</th>\n",
       "      <th>...</th>\n",
       "      <th>unknown.8</th>\n",
       "      <th>unknown.9</th>\n",
       "      <th>unknown.10</th>\n",
       "      <th>unknown.11</th>\n",
       "      <th>unknown.12</th>\n",
       "      <th>unknown.13</th>\n",
       "      <th>unknown.14</th>\n",
       "      <th>unknown.15</th>\n",
       "      <th>unknown.16</th>\n",
       "      <th>unknown.17</th>\n",
       "    </tr>\n",
       "  </thead>\n",
       "  <tbody>\n",
       "    <tr>\n",
       "      <th>564</th>\n",
       "      <td>926424</td>\n",
       "      <td>M</td>\n",
       "      <td>21.56</td>\n",
       "      <td>22.39</td>\n",
       "      <td>142.00</td>\n",
       "      <td>1479.0</td>\n",
       "      <td>0.11100</td>\n",
       "      <td>0.11590</td>\n",
       "      <td>0.24390</td>\n",
       "      <td>0.13890</td>\n",
       "      <td>...</td>\n",
       "      <td>25.450</td>\n",
       "      <td>26.40</td>\n",
       "      <td>166.10</td>\n",
       "      <td>2027.0</td>\n",
       "      <td>0.14100</td>\n",
       "      <td>0.21130</td>\n",
       "      <td>0.4107</td>\n",
       "      <td>0.2216</td>\n",
       "      <td>0.2060</td>\n",
       "      <td>0.07115</td>\n",
       "    </tr>\n",
       "    <tr>\n",
       "      <th>565</th>\n",
       "      <td>926682</td>\n",
       "      <td>M</td>\n",
       "      <td>20.13</td>\n",
       "      <td>28.25</td>\n",
       "      <td>131.20</td>\n",
       "      <td>1261.0</td>\n",
       "      <td>0.09780</td>\n",
       "      <td>0.10340</td>\n",
       "      <td>0.14400</td>\n",
       "      <td>0.09791</td>\n",
       "      <td>...</td>\n",
       "      <td>23.690</td>\n",
       "      <td>38.25</td>\n",
       "      <td>155.00</td>\n",
       "      <td>1731.0</td>\n",
       "      <td>0.11660</td>\n",
       "      <td>0.19220</td>\n",
       "      <td>0.3215</td>\n",
       "      <td>0.1628</td>\n",
       "      <td>0.2572</td>\n",
       "      <td>0.06637</td>\n",
       "    </tr>\n",
       "    <tr>\n",
       "      <th>566</th>\n",
       "      <td>926954</td>\n",
       "      <td>M</td>\n",
       "      <td>16.60</td>\n",
       "      <td>28.08</td>\n",
       "      <td>108.30</td>\n",
       "      <td>858.1</td>\n",
       "      <td>0.08455</td>\n",
       "      <td>0.10230</td>\n",
       "      <td>0.09251</td>\n",
       "      <td>0.05302</td>\n",
       "      <td>...</td>\n",
       "      <td>18.980</td>\n",
       "      <td>34.12</td>\n",
       "      <td>126.70</td>\n",
       "      <td>1124.0</td>\n",
       "      <td>0.11390</td>\n",
       "      <td>0.30940</td>\n",
       "      <td>0.3403</td>\n",
       "      <td>0.1418</td>\n",
       "      <td>0.2218</td>\n",
       "      <td>0.07820</td>\n",
       "    </tr>\n",
       "    <tr>\n",
       "      <th>567</th>\n",
       "      <td>927241</td>\n",
       "      <td>M</td>\n",
       "      <td>20.60</td>\n",
       "      <td>29.33</td>\n",
       "      <td>140.10</td>\n",
       "      <td>1265.0</td>\n",
       "      <td>0.11780</td>\n",
       "      <td>0.27700</td>\n",
       "      <td>0.35140</td>\n",
       "      <td>0.15200</td>\n",
       "      <td>...</td>\n",
       "      <td>25.740</td>\n",
       "      <td>39.42</td>\n",
       "      <td>184.60</td>\n",
       "      <td>1821.0</td>\n",
       "      <td>0.16500</td>\n",
       "      <td>0.86810</td>\n",
       "      <td>0.9387</td>\n",
       "      <td>0.2650</td>\n",
       "      <td>0.4087</td>\n",
       "      <td>0.12400</td>\n",
       "    </tr>\n",
       "    <tr>\n",
       "      <th>568</th>\n",
       "      <td>92751</td>\n",
       "      <td>B</td>\n",
       "      <td>7.76</td>\n",
       "      <td>24.54</td>\n",
       "      <td>47.92</td>\n",
       "      <td>181.0</td>\n",
       "      <td>0.05263</td>\n",
       "      <td>0.04362</td>\n",
       "      <td>0.00000</td>\n",
       "      <td>0.00000</td>\n",
       "      <td>...</td>\n",
       "      <td>9.456</td>\n",
       "      <td>30.37</td>\n",
       "      <td>59.16</td>\n",
       "      <td>268.6</td>\n",
       "      <td>0.08996</td>\n",
       "      <td>0.06444</td>\n",
       "      <td>0.0000</td>\n",
       "      <td>0.0000</td>\n",
       "      <td>0.2871</td>\n",
       "      <td>0.07039</td>\n",
       "    </tr>\n",
       "  </tbody>\n",
       "</table>\n",
       "<p>5 rows × 32 columns</p>\n",
       "</div>"
      ],
      "text/plain": [
       "         id Label  radius   texture  perimeter    area  smoothness   \\\n",
       "564  926424     M    21.56    22.39     142.00  1479.0      0.11100   \n",
       "565  926682     M    20.13    28.25     131.20  1261.0      0.09780   \n",
       "566  926954     M    16.60    28.08     108.30   858.1      0.08455   \n",
       "567  927241     M    20.60    29.33     140.10  1265.0      0.11780   \n",
       "568   92751     B     7.76    24.54      47.92   181.0      0.05263   \n",
       "\n",
       "     compactness   concavity  concave    ...  unknown.8  unknown.9  \\\n",
       "564       0.11590    0.24390    0.13890  ...     25.450      26.40   \n",
       "565       0.10340    0.14400    0.09791  ...     23.690      38.25   \n",
       "566       0.10230    0.09251    0.05302  ...     18.980      34.12   \n",
       "567       0.27700    0.35140    0.15200  ...     25.740      39.42   \n",
       "568       0.04362    0.00000    0.00000  ...      9.456      30.37   \n",
       "\n",
       "     unknown.10  unknown.11  unknown.12  unknown.13  unknown.14  unknown.15  \\\n",
       "564      166.10      2027.0     0.14100     0.21130      0.4107      0.2216   \n",
       "565      155.00      1731.0     0.11660     0.19220      0.3215      0.1628   \n",
       "566      126.70      1124.0     0.11390     0.30940      0.3403      0.1418   \n",
       "567      184.60      1821.0     0.16500     0.86810      0.9387      0.2650   \n",
       "568       59.16       268.6     0.08996     0.06444      0.0000      0.0000   \n",
       "\n",
       "     unknown.16  unknown.17  \n",
       "564      0.2060     0.07115  \n",
       "565      0.2572     0.06637  \n",
       "566      0.2218     0.07820  \n",
       "567      0.4087     0.12400  \n",
       "568      0.2871     0.07039  \n",
       "\n",
       "[5 rows x 32 columns]"
      ]
     },
     "execution_count": 30,
     "metadata": {},
     "output_type": "execute_result"
    }
   ],
   "source": [
    "df.tail()"
   ]
  },
  {
   "cell_type": "code",
   "execution_count": 31,
   "metadata": {},
   "outputs": [
    {
     "data": {
      "text/plain": [
       "id                int64\n",
       "Label            object\n",
       "radius          float64\n",
       "texture         float64\n",
       "perimeter       float64\n",
       "area            float64\n",
       "smoothness      float64\n",
       "compactness     float64\n",
       "concavity       float64\n",
       "concave         float64\n",
       "points          float64\n",
       "symmetry        float64\n",
       "fractal         float64\n",
       " dimension      float64\n",
       "unknown         float64\n",
       "unknown.1       float64\n",
       "unknown.2       float64\n",
       "unknown.3       float64\n",
       "unknown.4       float64\n",
       "unknown.5       float64\n",
       "unknown.6       float64\n",
       "unknown.7       float64\n",
       "unknown.8       float64\n",
       "unknown.9       float64\n",
       "unknown.10      float64\n",
       "unknown.11      float64\n",
       "unknown.12      float64\n",
       "unknown.13      float64\n",
       "unknown.14      float64\n",
       "unknown.15      float64\n",
       "unknown.16      float64\n",
       "unknown.17      float64\n",
       "dtype: object"
      ]
     },
     "execution_count": 31,
     "metadata": {},
     "output_type": "execute_result"
    }
   ],
   "source": [
    "df.dtypes"
   ]
  },
  {
   "cell_type": "code",
   "execution_count": 32,
   "metadata": {},
   "outputs": [
    {
     "data": {
      "text/plain": [
       "Index(['id', 'Label', 'radius ', 'texture', 'perimeter', 'area', 'smoothness ',\n",
       "       'compactness ', 'concavity', 'concave  ', 'points', 'symmetry',\n",
       "       'fractal', ' dimension', 'unknown', 'unknown.1', 'unknown.2',\n",
       "       'unknown.3', 'unknown.4', 'unknown.5', 'unknown.6', 'unknown.7',\n",
       "       'unknown.8', 'unknown.9', 'unknown.10', 'unknown.11', 'unknown.12',\n",
       "       'unknown.13', 'unknown.14', 'unknown.15', 'unknown.16', 'unknown.17'],\n",
       "      dtype='object')"
      ]
     },
     "execution_count": 32,
     "metadata": {},
     "output_type": "execute_result"
    }
   ],
   "source": [
    "df.columns"
   ]
  },
  {
   "cell_type": "code",
   "execution_count": 33,
   "metadata": {},
   "outputs": [],
   "source": [
    "df.drop(columns = ['id', 'unknown', 'unknown.1', 'unknown.2', 'unknown.3', 'unknown.4', 'unknown.5',\n",
    "                        'unknown.6', 'unknown.7', 'unknown.8', 'unknown.9', 'unknown.10','unknown.11',\n",
    "                        'unknown.12','unknown.13', 'unknown.14', 'unknown.15', 'unknown.16', \n",
    "                        'unknown.17'], inplace = True)"
   ]
  },
  {
   "cell_type": "code",
   "execution_count": 34,
   "metadata": {
    "scrolled": false
   },
   "outputs": [
    {
     "data": {
      "text/html": [
       "<div>\n",
       "<style scoped>\n",
       "    .dataframe tbody tr th:only-of-type {\n",
       "        vertical-align: middle;\n",
       "    }\n",
       "\n",
       "    .dataframe tbody tr th {\n",
       "        vertical-align: top;\n",
       "    }\n",
       "\n",
       "    .dataframe thead th {\n",
       "        text-align: right;\n",
       "    }\n",
       "</style>\n",
       "<table border=\"1\" class=\"dataframe\">\n",
       "  <thead>\n",
       "    <tr style=\"text-align: right;\">\n",
       "      <th></th>\n",
       "      <th>Label</th>\n",
       "      <th>radius</th>\n",
       "      <th>texture</th>\n",
       "      <th>perimeter</th>\n",
       "      <th>area</th>\n",
       "      <th>smoothness</th>\n",
       "      <th>compactness</th>\n",
       "      <th>concavity</th>\n",
       "      <th>concave</th>\n",
       "      <th>points</th>\n",
       "      <th>symmetry</th>\n",
       "      <th>fractal</th>\n",
       "      <th>dimension</th>\n",
       "    </tr>\n",
       "  </thead>\n",
       "  <tbody>\n",
       "    <tr>\n",
       "      <th>0</th>\n",
       "      <td>M</td>\n",
       "      <td>17.99</td>\n",
       "      <td>10.38</td>\n",
       "      <td>122.80</td>\n",
       "      <td>1001.0</td>\n",
       "      <td>0.11840</td>\n",
       "      <td>0.27760</td>\n",
       "      <td>0.3001</td>\n",
       "      <td>0.14710</td>\n",
       "      <td>0.2419</td>\n",
       "      <td>0.07871</td>\n",
       "      <td>1.0950</td>\n",
       "      <td>0.9053</td>\n",
       "    </tr>\n",
       "    <tr>\n",
       "      <th>1</th>\n",
       "      <td>M</td>\n",
       "      <td>20.57</td>\n",
       "      <td>17.77</td>\n",
       "      <td>132.90</td>\n",
       "      <td>1326.0</td>\n",
       "      <td>0.08474</td>\n",
       "      <td>0.07864</td>\n",
       "      <td>0.0869</td>\n",
       "      <td>0.07017</td>\n",
       "      <td>0.1812</td>\n",
       "      <td>0.05667</td>\n",
       "      <td>0.5435</td>\n",
       "      <td>0.7339</td>\n",
       "    </tr>\n",
       "    <tr>\n",
       "      <th>2</th>\n",
       "      <td>M</td>\n",
       "      <td>19.69</td>\n",
       "      <td>21.25</td>\n",
       "      <td>130.00</td>\n",
       "      <td>1203.0</td>\n",
       "      <td>0.10960</td>\n",
       "      <td>0.15990</td>\n",
       "      <td>0.1974</td>\n",
       "      <td>0.12790</td>\n",
       "      <td>0.2069</td>\n",
       "      <td>0.05999</td>\n",
       "      <td>0.7456</td>\n",
       "      <td>0.7869</td>\n",
       "    </tr>\n",
       "    <tr>\n",
       "      <th>3</th>\n",
       "      <td>M</td>\n",
       "      <td>11.42</td>\n",
       "      <td>20.38</td>\n",
       "      <td>77.58</td>\n",
       "      <td>386.1</td>\n",
       "      <td>0.14250</td>\n",
       "      <td>0.28390</td>\n",
       "      <td>0.2414</td>\n",
       "      <td>0.10520</td>\n",
       "      <td>0.2597</td>\n",
       "      <td>0.09744</td>\n",
       "      <td>0.4956</td>\n",
       "      <td>1.1560</td>\n",
       "    </tr>\n",
       "    <tr>\n",
       "      <th>4</th>\n",
       "      <td>M</td>\n",
       "      <td>20.29</td>\n",
       "      <td>14.34</td>\n",
       "      <td>135.10</td>\n",
       "      <td>1297.0</td>\n",
       "      <td>0.10030</td>\n",
       "      <td>0.13280</td>\n",
       "      <td>0.1980</td>\n",
       "      <td>0.10430</td>\n",
       "      <td>0.1809</td>\n",
       "      <td>0.05883</td>\n",
       "      <td>0.7572</td>\n",
       "      <td>0.7813</td>\n",
       "    </tr>\n",
       "  </tbody>\n",
       "</table>\n",
       "</div>"
      ],
      "text/plain": [
       "  Label  radius   texture  perimeter    area  smoothness   compactness   \\\n",
       "0     M    17.99    10.38     122.80  1001.0      0.11840       0.27760   \n",
       "1     M    20.57    17.77     132.90  1326.0      0.08474       0.07864   \n",
       "2     M    19.69    21.25     130.00  1203.0      0.10960       0.15990   \n",
       "3     M    11.42    20.38      77.58   386.1      0.14250       0.28390   \n",
       "4     M    20.29    14.34     135.10  1297.0      0.10030       0.13280   \n",
       "\n",
       "   concavity  concave    points  symmetry  fractal   dimension  \n",
       "0     0.3001    0.14710  0.2419   0.07871   1.0950      0.9053  \n",
       "1     0.0869    0.07017  0.1812   0.05667   0.5435      0.7339  \n",
       "2     0.1974    0.12790  0.2069   0.05999   0.7456      0.7869  \n",
       "3     0.2414    0.10520  0.2597   0.09744   0.4956      1.1560  \n",
       "4     0.1980    0.10430  0.1809   0.05883   0.7572      0.7813  "
      ]
     },
     "execution_count": 34,
     "metadata": {},
     "output_type": "execute_result"
    }
   ],
   "source": [
    "df.head()"
   ]
  },
  {
   "cell_type": "code",
   "execution_count": 35,
   "metadata": {},
   "outputs": [],
   "source": [
    "df.rename(columns = {\"Label\": \"label\"}, inplace = True)"
   ]
  },
  {
   "cell_type": "code",
   "execution_count": 36,
   "metadata": {},
   "outputs": [
    {
     "data": {
      "text/plain": [
       "Index(['label', 'radius ', 'texture', 'perimeter', 'area', 'smoothness ',\n",
       "       'compactness ', 'concavity', 'concave  ', 'points', 'symmetry',\n",
       "       'fractal', ' dimension'],\n",
       "      dtype='object')"
      ]
     },
     "execution_count": 36,
     "metadata": {},
     "output_type": "execute_result"
    }
   ],
   "source": [
    "df.columns"
   ]
  },
  {
   "cell_type": "code",
   "execution_count": 38,
   "metadata": {},
   "outputs": [
    {
     "data": {
      "text/plain": [
       "array(['M', 'B'], dtype=object)"
      ]
     },
     "execution_count": 38,
     "metadata": {},
     "output_type": "execute_result"
    }
   ],
   "source": [
    "df[\"label\"].unique()"
   ]
  },
  {
   "cell_type": "code",
   "execution_count": 39,
   "metadata": {},
   "outputs": [],
   "source": [
    "df[\"label\"] = df[\"label\"].map({\"M\":1, \"B\":0})"
   ]
  },
  {
   "cell_type": "code",
   "execution_count": 40,
   "metadata": {},
   "outputs": [
    {
     "data": {
      "text/plain": [
       "Text(0.5, 1.0, 'Label: (M = 1, B = 0)')"
      ]
     },
     "execution_count": 40,
     "metadata": {},
     "output_type": "execute_result"
    },
    {
     "data": {
      "image/png": "[encoded data removed]",
      "text/plain": [
       "<Figure size 720x576 with 1 Axes>"
      ]
     },
     "metadata": {},
     "output_type": "display_data"
    }
   ],
   "source": [
    "import matplotlib.pyplot as plt\n",
    "import matplotlib\n",
    "\n",
    "matplotlib.style.use('ggplot')\n",
    "\n",
    "plt.figure(figsize = (10, 8))\n",
    "plt.hist(df[\"label\"])\n",
    "plt.title(\"Label: (M = 1, B = 0)\")"
   ]
  },
  {
   "cell_type": "code",
   "execution_count": 41,
   "metadata": {
    "scrolled": true
   },
   "outputs": [
    {
     "data": {
      "text/plain": [
       "label             int64\n",
       "radius          float64\n",
       "texture         float64\n",
       "perimeter       float64\n",
       "area            float64\n",
       "smoothness      float64\n",
       "compactness     float64\n",
       "concavity       float64\n",
       "concave         float64\n",
       "points          float64\n",
       "symmetry        float64\n",
       "fractal         float64\n",
       " dimension      float64\n",
       "dtype: object"
      ]
     },
     "execution_count": 41,
     "metadata": {},
     "output_type": "execute_result"
    }
   ],
   "source": [
    "df.dtypes"
   ]
  },
  {
   "cell_type": "code",
   "execution_count": 42,
   "metadata": {},
   "outputs": [
    {
     "data": {
      "text/plain": [
       "label           0\n",
       "radius          0\n",
       "texture         0\n",
       "perimeter       0\n",
       "area            0\n",
       "smoothness      0\n",
       "compactness     0\n",
       "concavity       0\n",
       "concave         0\n",
       "points          0\n",
       "symmetry        0\n",
       "fractal         0\n",
       " dimension      0\n",
       "dtype: int64"
      ]
     },
     "execution_count": 42,
     "metadata": {},
     "output_type": "execute_result"
    }
   ],
   "source": [
    "df.isnull().sum()"
   ]
  },
  {
   "cell_type": "code",
   "execution_count": 43,
   "metadata": {},
   "outputs": [
    {
     "data": {
      "text/plain": [
       "<matplotlib.axes._subplots.AxesSubplot at 0x1eaa1d2d860>"
      ]
     },
     "execution_count": 43,
     "metadata": {},
     "output_type": "execute_result"
    },
    {
     "data": {
      "image/png": "[encoded data removed]",
      "text/plain": [
       "<Figure size 864x576 with 1 Axes>"
      ]
     },
     "metadata": {
      "needs_background": "light"
     },
     "output_type": "display_data"
    }
   ],
   "source": [
    "import matplotlib.pyplot as plt\n",
    "import seaborn as sns\n",
    "\n",
    "%matplotlib inline\n",
    "\n",
    "plt.figure(figsize = (12, 8))\n",
    "sns.heatmap(df.isnull(), yticklabels = False, cbar = False, cmap = \"YlGnBu\")"
   ]
  },
  {
   "cell_type": "code",
   "execution_count": 44,
   "metadata": {},
   "outputs": [
    {
     "data": {
      "text/html": [
       "<div>\n",
       "<style scoped>\n",
       "    .dataframe tbody tr th:only-of-type {\n",
       "        vertical-align: middle;\n",
       "    }\n",
       "\n",
       "    .dataframe tbody tr th {\n",
       "        vertical-align: top;\n",
       "    }\n",
       "\n",
       "    .dataframe thead th {\n",
       "        text-align: right;\n",
       "    }\n",
       "</style>\n",
       "<table border=\"1\" class=\"dataframe\">\n",
       "  <thead>\n",
       "    <tr style=\"text-align: right;\">\n",
       "      <th></th>\n",
       "      <th>label</th>\n",
       "      <th>radius</th>\n",
       "      <th>texture</th>\n",
       "      <th>perimeter</th>\n",
       "      <th>area</th>\n",
       "      <th>smoothness</th>\n",
       "      <th>compactness</th>\n",
       "      <th>concavity</th>\n",
       "      <th>concave</th>\n",
       "      <th>points</th>\n",
       "      <th>symmetry</th>\n",
       "      <th>fractal</th>\n",
       "      <th>dimension</th>\n",
       "    </tr>\n",
       "  </thead>\n",
       "  <tbody>\n",
       "    <tr>\n",
       "      <th>0</th>\n",
       "      <td>1</td>\n",
       "      <td>17.99</td>\n",
       "      <td>10.38</td>\n",
       "      <td>122.80</td>\n",
       "      <td>1001.0</td>\n",
       "      <td>0.11840</td>\n",
       "      <td>0.27760</td>\n",
       "      <td>0.3001</td>\n",
       "      <td>0.14710</td>\n",
       "      <td>0.2419</td>\n",
       "      <td>0.07871</td>\n",
       "      <td>1.0950</td>\n",
       "      <td>0.9053</td>\n",
       "    </tr>\n",
       "    <tr>\n",
       "      <th>1</th>\n",
       "      <td>1</td>\n",
       "      <td>20.57</td>\n",
       "      <td>17.77</td>\n",
       "      <td>132.90</td>\n",
       "      <td>1326.0</td>\n",
       "      <td>0.08474</td>\n",
       "      <td>0.07864</td>\n",
       "      <td>0.0869</td>\n",
       "      <td>0.07017</td>\n",
       "      <td>0.1812</td>\n",
       "      <td>0.05667</td>\n",
       "      <td>0.5435</td>\n",
       "      <td>0.7339</td>\n",
       "    </tr>\n",
       "    <tr>\n",
       "      <th>2</th>\n",
       "      <td>1</td>\n",
       "      <td>19.69</td>\n",
       "      <td>21.25</td>\n",
       "      <td>130.00</td>\n",
       "      <td>1203.0</td>\n",
       "      <td>0.10960</td>\n",
       "      <td>0.15990</td>\n",
       "      <td>0.1974</td>\n",
       "      <td>0.12790</td>\n",
       "      <td>0.2069</td>\n",
       "      <td>0.05999</td>\n",
       "      <td>0.7456</td>\n",
       "      <td>0.7869</td>\n",
       "    </tr>\n",
       "    <tr>\n",
       "      <th>3</th>\n",
       "      <td>1</td>\n",
       "      <td>11.42</td>\n",
       "      <td>20.38</td>\n",
       "      <td>77.58</td>\n",
       "      <td>386.1</td>\n",
       "      <td>0.14250</td>\n",
       "      <td>0.28390</td>\n",
       "      <td>0.2414</td>\n",
       "      <td>0.10520</td>\n",
       "      <td>0.2597</td>\n",
       "      <td>0.09744</td>\n",
       "      <td>0.4956</td>\n",
       "      <td>1.1560</td>\n",
       "    </tr>\n",
       "    <tr>\n",
       "      <th>4</th>\n",
       "      <td>1</td>\n",
       "      <td>20.29</td>\n",
       "      <td>14.34</td>\n",
       "      <td>135.10</td>\n",
       "      <td>1297.0</td>\n",
       "      <td>0.10030</td>\n",
       "      <td>0.13280</td>\n",
       "      <td>0.1980</td>\n",
       "      <td>0.10430</td>\n",
       "      <td>0.1809</td>\n",
       "      <td>0.05883</td>\n",
       "      <td>0.7572</td>\n",
       "      <td>0.7813</td>\n",
       "    </tr>\n",
       "  </tbody>\n",
       "</table>\n",
       "</div>"
      ],
      "text/plain": [
       "   label  radius   texture  perimeter    area  smoothness   compactness   \\\n",
       "0      1    17.99    10.38     122.80  1001.0      0.11840       0.27760   \n",
       "1      1    20.57    17.77     132.90  1326.0      0.08474       0.07864   \n",
       "2      1    19.69    21.25     130.00  1203.0      0.10960       0.15990   \n",
       "3      1    11.42    20.38      77.58   386.1      0.14250       0.28390   \n",
       "4      1    20.29    14.34     135.10  1297.0      0.10030       0.13280   \n",
       "\n",
       "   concavity  concave    points  symmetry  fractal   dimension  \n",
       "0     0.3001    0.14710  0.2419   0.07871   1.0950      0.9053  \n",
       "1     0.0869    0.07017  0.1812   0.05667   0.5435      0.7339  \n",
       "2     0.1974    0.12790  0.2069   0.05999   0.7456      0.7869  \n",
       "3     0.2414    0.10520  0.2597   0.09744   0.4956      1.1560  \n",
       "4     0.1980    0.10430  0.1809   0.05883   0.7572      0.7813  "
      ]
     },
     "execution_count": 44,
     "metadata": {},
     "output_type": "execute_result"
    }
   ],
   "source": [
    "df.head()"
   ]
  },
  {
   "cell_type": "code",
   "execution_count": 45,
   "metadata": {},
   "outputs": [
    {
     "name": "stdout",
     "output_type": "stream",
     "text": [
      "<class 'pandas.core.frame.DataFrame'>\n",
      "RangeIndex: 569 entries, 0 to 568\n",
      "Data columns (total 13 columns):\n",
      "label           569 non-null int64\n",
      "radius          569 non-null float64\n",
      "texture         569 non-null float64\n",
      "perimeter       569 non-null float64\n",
      "area            569 non-null float64\n",
      "smoothness      569 non-null float64\n",
      "compactness     569 non-null float64\n",
      "concavity       569 non-null float64\n",
      "concave         569 non-null float64\n",
      "points          569 non-null float64\n",
      "symmetry        569 non-null float64\n",
      "fractal         569 non-null float64\n",
      " dimension      569 non-null float64\n",
      "dtypes: float64(12), int64(1)\n",
      "memory usage: 57.9 KB\n"
     ]
    }
   ],
   "source": [
    "df.info()"
   ]
  },
  {
   "cell_type": "code",
   "execution_count": 46,
   "metadata": {},
   "outputs": [
    {
     "data": {
      "text/html": [
       "<div>\n",
       "<style scoped>\n",
       "    .dataframe tbody tr th:only-of-type {\n",
       "        vertical-align: middle;\n",
       "    }\n",
       "\n",
       "    .dataframe tbody tr th {\n",
       "        vertical-align: top;\n",
       "    }\n",
       "\n",
       "    .dataframe thead th {\n",
       "        text-align: right;\n",
       "    }\n",
       "</style>\n",
       "<table border=\"1\" class=\"dataframe\">\n",
       "  <thead>\n",
       "    <tr style=\"text-align: right;\">\n",
       "      <th></th>\n",
       "      <th>label</th>\n",
       "      <th>radius</th>\n",
       "      <th>texture</th>\n",
       "      <th>perimeter</th>\n",
       "      <th>area</th>\n",
       "      <th>smoothness</th>\n",
       "      <th>compactness</th>\n",
       "      <th>concavity</th>\n",
       "      <th>concave</th>\n",
       "      <th>points</th>\n",
       "      <th>symmetry</th>\n",
       "      <th>fractal</th>\n",
       "      <th>dimension</th>\n",
       "    </tr>\n",
       "  </thead>\n",
       "  <tbody>\n",
       "    <tr>\n",
       "      <th>count</th>\n",
       "      <td>569.000000</td>\n",
       "      <td>569.000000</td>\n",
       "      <td>569.000000</td>\n",
       "      <td>569.000000</td>\n",
       "      <td>569.000000</td>\n",
       "      <td>569.000000</td>\n",
       "      <td>569.000000</td>\n",
       "      <td>569.000000</td>\n",
       "      <td>569.000000</td>\n",
       "      <td>569.000000</td>\n",
       "      <td>569.000000</td>\n",
       "      <td>569.000000</td>\n",
       "      <td>569.000000</td>\n",
       "    </tr>\n",
       "    <tr>\n",
       "      <th>mean</th>\n",
       "      <td>0.372583</td>\n",
       "      <td>14.127292</td>\n",
       "      <td>19.289649</td>\n",
       "      <td>91.969033</td>\n",
       "      <td>654.889104</td>\n",
       "      <td>0.096360</td>\n",
       "      <td>0.104341</td>\n",
       "      <td>0.088799</td>\n",
       "      <td>0.048919</td>\n",
       "      <td>0.181162</td>\n",
       "      <td>0.062798</td>\n",
       "      <td>0.405172</td>\n",
       "      <td>1.216853</td>\n",
       "    </tr>\n",
       "    <tr>\n",
       "      <th>std</th>\n",
       "      <td>0.483918</td>\n",
       "      <td>3.524049</td>\n",
       "      <td>4.301036</td>\n",
       "      <td>24.298981</td>\n",
       "      <td>351.914129</td>\n",
       "      <td>0.014064</td>\n",
       "      <td>0.052813</td>\n",
       "      <td>0.079720</td>\n",
       "      <td>0.038803</td>\n",
       "      <td>0.027414</td>\n",
       "      <td>0.007060</td>\n",
       "      <td>0.277313</td>\n",
       "      <td>0.551648</td>\n",
       "    </tr>\n",
       "    <tr>\n",
       "      <th>min</th>\n",
       "      <td>0.000000</td>\n",
       "      <td>6.981000</td>\n",
       "      <td>9.710000</td>\n",
       "      <td>43.790000</td>\n",
       "      <td>143.500000</td>\n",
       "      <td>0.052630</td>\n",
       "      <td>0.019380</td>\n",
       "      <td>0.000000</td>\n",
       "      <td>0.000000</td>\n",
       "      <td>0.106000</td>\n",
       "      <td>0.049960</td>\n",
       "      <td>0.111500</td>\n",
       "      <td>0.360200</td>\n",
       "    </tr>\n",
       "    <tr>\n",
       "      <th>25%</th>\n",
       "      <td>0.000000</td>\n",
       "      <td>11.700000</td>\n",
       "      <td>16.170000</td>\n",
       "      <td>75.170000</td>\n",
       "      <td>420.300000</td>\n",
       "      <td>0.086370</td>\n",
       "      <td>0.064920</td>\n",
       "      <td>0.029560</td>\n",
       "      <td>0.020310</td>\n",
       "      <td>0.161900</td>\n",
       "      <td>0.057700</td>\n",
       "      <td>0.232400</td>\n",
       "      <td>0.833900</td>\n",
       "    </tr>\n",
       "    <tr>\n",
       "      <th>50%</th>\n",
       "      <td>0.000000</td>\n",
       "      <td>13.370000</td>\n",
       "      <td>18.840000</td>\n",
       "      <td>86.240000</td>\n",
       "      <td>551.100000</td>\n",
       "      <td>0.095870</td>\n",
       "      <td>0.092630</td>\n",
       "      <td>0.061540</td>\n",
       "      <td>0.033500</td>\n",
       "      <td>0.179200</td>\n",
       "      <td>0.061540</td>\n",
       "      <td>0.324200</td>\n",
       "      <td>1.108000</td>\n",
       "    </tr>\n",
       "    <tr>\n",
       "      <th>75%</th>\n",
       "      <td>1.000000</td>\n",
       "      <td>15.780000</td>\n",
       "      <td>21.800000</td>\n",
       "      <td>104.100000</td>\n",
       "      <td>782.700000</td>\n",
       "      <td>0.105300</td>\n",
       "      <td>0.130400</td>\n",
       "      <td>0.130700</td>\n",
       "      <td>0.074000</td>\n",
       "      <td>0.195700</td>\n",
       "      <td>0.066120</td>\n",
       "      <td>0.478900</td>\n",
       "      <td>1.474000</td>\n",
       "    </tr>\n",
       "    <tr>\n",
       "      <th>max</th>\n",
       "      <td>1.000000</td>\n",
       "      <td>28.110000</td>\n",
       "      <td>39.280000</td>\n",
       "      <td>188.500000</td>\n",
       "      <td>2501.000000</td>\n",
       "      <td>0.163400</td>\n",
       "      <td>0.345400</td>\n",
       "      <td>0.426800</td>\n",
       "      <td>0.201200</td>\n",
       "      <td>0.304000</td>\n",
       "      <td>0.097440</td>\n",
       "      <td>2.873000</td>\n",
       "      <td>4.885000</td>\n",
       "    </tr>\n",
       "  </tbody>\n",
       "</table>\n",
       "</div>"
      ],
      "text/plain": [
       "            label     radius      texture   perimeter         area  \\\n",
       "count  569.000000  569.000000  569.000000  569.000000   569.000000   \n",
       "mean     0.372583   14.127292   19.289649   91.969033   654.889104   \n",
       "std      0.483918    3.524049    4.301036   24.298981   351.914129   \n",
       "min      0.000000    6.981000    9.710000   43.790000   143.500000   \n",
       "25%      0.000000   11.700000   16.170000   75.170000   420.300000   \n",
       "50%      0.000000   13.370000   18.840000   86.240000   551.100000   \n",
       "75%      1.000000   15.780000   21.800000  104.100000   782.700000   \n",
       "max      1.000000   28.110000   39.280000  188.500000  2501.000000   \n",
       "\n",
       "       smoothness   compactness    concavity   concave        points  \\\n",
       "count   569.000000    569.000000  569.000000  569.000000  569.000000   \n",
       "mean      0.096360      0.104341    0.088799    0.048919    0.181162   \n",
       "std       0.014064      0.052813    0.079720    0.038803    0.027414   \n",
       "min       0.052630      0.019380    0.000000    0.000000    0.106000   \n",
       "25%       0.086370      0.064920    0.029560    0.020310    0.161900   \n",
       "50%       0.095870      0.092630    0.061540    0.033500    0.179200   \n",
       "75%       0.105300      0.130400    0.130700    0.074000    0.195700   \n",
       "max       0.163400      0.345400    0.426800    0.201200    0.304000   \n",
       "\n",
       "         symmetry     fractal   dimension  \n",
       "count  569.000000  569.000000  569.000000  \n",
       "mean     0.062798    0.405172    1.216853  \n",
       "std      0.007060    0.277313    0.551648  \n",
       "min      0.049960    0.111500    0.360200  \n",
       "25%      0.057700    0.232400    0.833900  \n",
       "50%      0.061540    0.324200    1.108000  \n",
       "75%      0.066120    0.478900    1.474000  \n",
       "max      0.097440    2.873000    4.885000  "
      ]
     },
     "execution_count": 46,
     "metadata": {},
     "output_type": "execute_result"
    }
   ],
   "source": [
    "df.describe()"
   ]
  },
  {
   "cell_type": "code",
   "execution_count": 47,
   "metadata": {},
   "outputs": [
    {
     "data": {
      "text/plain": [
       "(569, 13)"
      ]
     },
     "execution_count": 47,
     "metadata": {},
     "output_type": "execute_result"
    }
   ],
   "source": [
    "df.shape"
   ]
  },
  {
   "cell_type": "code",
   "execution_count": 48,
   "metadata": {
    "scrolled": true
   },
   "outputs": [
    {
     "data": {
      "text/html": [
       "<div>\n",
       "<style scoped>\n",
       "    .dataframe tbody tr th:only-of-type {\n",
       "        vertical-align: middle;\n",
       "    }\n",
       "\n",
       "    .dataframe tbody tr th {\n",
       "        vertical-align: top;\n",
       "    }\n",
       "\n",
       "    .dataframe thead th {\n",
       "        text-align: right;\n",
       "    }\n",
       "</style>\n",
       "<table border=\"1\" class=\"dataframe\">\n",
       "  <thead>\n",
       "    <tr style=\"text-align: right;\">\n",
       "      <th></th>\n",
       "      <th>label</th>\n",
       "      <th>radius</th>\n",
       "      <th>texture</th>\n",
       "      <th>perimeter</th>\n",
       "      <th>area</th>\n",
       "      <th>smoothness</th>\n",
       "      <th>compactness</th>\n",
       "      <th>concavity</th>\n",
       "      <th>concave</th>\n",
       "      <th>points</th>\n",
       "      <th>symmetry</th>\n",
       "      <th>fractal</th>\n",
       "      <th>dimension</th>\n",
       "    </tr>\n",
       "  </thead>\n",
       "  <tbody>\n",
       "    <tr>\n",
       "      <th>label</th>\n",
       "      <td>1.000000</td>\n",
       "      <td>0.730029</td>\n",
       "      <td>0.415185</td>\n",
       "      <td>0.742636</td>\n",
       "      <td>0.708984</td>\n",
       "      <td>0.358560</td>\n",
       "      <td>0.596534</td>\n",
       "      <td>0.696360</td>\n",
       "      <td>0.776614</td>\n",
       "      <td>0.330499</td>\n",
       "      <td>-0.012838</td>\n",
       "      <td>0.567134</td>\n",
       "      <td>-0.008303</td>\n",
       "    </tr>\n",
       "    <tr>\n",
       "      <th>radius</th>\n",
       "      <td>0.730029</td>\n",
       "      <td>1.000000</td>\n",
       "      <td>0.323782</td>\n",
       "      <td>0.997855</td>\n",
       "      <td>0.987357</td>\n",
       "      <td>0.170581</td>\n",
       "      <td>0.506124</td>\n",
       "      <td>0.676764</td>\n",
       "      <td>0.822529</td>\n",
       "      <td>0.147741</td>\n",
       "      <td>-0.311631</td>\n",
       "      <td>0.679090</td>\n",
       "      <td>-0.097317</td>\n",
       "    </tr>\n",
       "    <tr>\n",
       "      <th>texture</th>\n",
       "      <td>0.415185</td>\n",
       "      <td>0.323782</td>\n",
       "      <td>1.000000</td>\n",
       "      <td>0.329533</td>\n",
       "      <td>0.321086</td>\n",
       "      <td>-0.023389</td>\n",
       "      <td>0.236702</td>\n",
       "      <td>0.302418</td>\n",
       "      <td>0.293464</td>\n",
       "      <td>0.071401</td>\n",
       "      <td>-0.076437</td>\n",
       "      <td>0.275869</td>\n",
       "      <td>0.386358</td>\n",
       "    </tr>\n",
       "    <tr>\n",
       "      <th>perimeter</th>\n",
       "      <td>0.742636</td>\n",
       "      <td>0.997855</td>\n",
       "      <td>0.329533</td>\n",
       "      <td>1.000000</td>\n",
       "      <td>0.986507</td>\n",
       "      <td>0.207278</td>\n",
       "      <td>0.556936</td>\n",
       "      <td>0.716136</td>\n",
       "      <td>0.850977</td>\n",
       "      <td>0.183027</td>\n",
       "      <td>-0.261477</td>\n",
       "      <td>0.691765</td>\n",
       "      <td>-0.086761</td>\n",
       "    </tr>\n",
       "    <tr>\n",
       "      <th>area</th>\n",
       "      <td>0.708984</td>\n",
       "      <td>0.987357</td>\n",
       "      <td>0.321086</td>\n",
       "      <td>0.986507</td>\n",
       "      <td>1.000000</td>\n",
       "      <td>0.177028</td>\n",
       "      <td>0.498502</td>\n",
       "      <td>0.685983</td>\n",
       "      <td>0.823269</td>\n",
       "      <td>0.151293</td>\n",
       "      <td>-0.283110</td>\n",
       "      <td>0.732562</td>\n",
       "      <td>-0.066280</td>\n",
       "    </tr>\n",
       "    <tr>\n",
       "      <th>smoothness</th>\n",
       "      <td>0.358560</td>\n",
       "      <td>0.170581</td>\n",
       "      <td>-0.023389</td>\n",
       "      <td>0.207278</td>\n",
       "      <td>0.177028</td>\n",
       "      <td>1.000000</td>\n",
       "      <td>0.659123</td>\n",
       "      <td>0.521984</td>\n",
       "      <td>0.553695</td>\n",
       "      <td>0.557775</td>\n",
       "      <td>0.584792</td>\n",
       "      <td>0.301467</td>\n",
       "      <td>0.068406</td>\n",
       "    </tr>\n",
       "    <tr>\n",
       "      <th>compactness</th>\n",
       "      <td>0.596534</td>\n",
       "      <td>0.506124</td>\n",
       "      <td>0.236702</td>\n",
       "      <td>0.556936</td>\n",
       "      <td>0.498502</td>\n",
       "      <td>0.659123</td>\n",
       "      <td>1.000000</td>\n",
       "      <td>0.883121</td>\n",
       "      <td>0.831135</td>\n",
       "      <td>0.602641</td>\n",
       "      <td>0.565369</td>\n",
       "      <td>0.497473</td>\n",
       "      <td>0.046205</td>\n",
       "    </tr>\n",
       "    <tr>\n",
       "      <th>concavity</th>\n",
       "      <td>0.696360</td>\n",
       "      <td>0.676764</td>\n",
       "      <td>0.302418</td>\n",
       "      <td>0.716136</td>\n",
       "      <td>0.685983</td>\n",
       "      <td>0.521984</td>\n",
       "      <td>0.883121</td>\n",
       "      <td>1.000000</td>\n",
       "      <td>0.921391</td>\n",
       "      <td>0.500667</td>\n",
       "      <td>0.336783</td>\n",
       "      <td>0.631925</td>\n",
       "      <td>0.076218</td>\n",
       "    </tr>\n",
       "    <tr>\n",
       "      <th>concave</th>\n",
       "      <td>0.776614</td>\n",
       "      <td>0.822529</td>\n",
       "      <td>0.293464</td>\n",
       "      <td>0.850977</td>\n",
       "      <td>0.823269</td>\n",
       "      <td>0.553695</td>\n",
       "      <td>0.831135</td>\n",
       "      <td>0.921391</td>\n",
       "      <td>1.000000</td>\n",
       "      <td>0.462497</td>\n",
       "      <td>0.166917</td>\n",
       "      <td>0.698050</td>\n",
       "      <td>0.021480</td>\n",
       "    </tr>\n",
       "    <tr>\n",
       "      <th>points</th>\n",
       "      <td>0.330499</td>\n",
       "      <td>0.147741</td>\n",
       "      <td>0.071401</td>\n",
       "      <td>0.183027</td>\n",
       "      <td>0.151293</td>\n",
       "      <td>0.557775</td>\n",
       "      <td>0.602641</td>\n",
       "      <td>0.500667</td>\n",
       "      <td>0.462497</td>\n",
       "      <td>1.000000</td>\n",
       "      <td>0.479921</td>\n",
       "      <td>0.303379</td>\n",
       "      <td>0.128053</td>\n",
       "    </tr>\n",
       "    <tr>\n",
       "      <th>symmetry</th>\n",
       "      <td>-0.012838</td>\n",
       "      <td>-0.311631</td>\n",
       "      <td>-0.076437</td>\n",
       "      <td>-0.261477</td>\n",
       "      <td>-0.283110</td>\n",
       "      <td>0.584792</td>\n",
       "      <td>0.565369</td>\n",
       "      <td>0.336783</td>\n",
       "      <td>0.166917</td>\n",
       "      <td>0.479921</td>\n",
       "      <td>1.000000</td>\n",
       "      <td>0.000111</td>\n",
       "      <td>0.164174</td>\n",
       "    </tr>\n",
       "    <tr>\n",
       "      <th>fractal</th>\n",
       "      <td>0.567134</td>\n",
       "      <td>0.679090</td>\n",
       "      <td>0.275869</td>\n",
       "      <td>0.691765</td>\n",
       "      <td>0.732562</td>\n",
       "      <td>0.301467</td>\n",
       "      <td>0.497473</td>\n",
       "      <td>0.631925</td>\n",
       "      <td>0.698050</td>\n",
       "      <td>0.303379</td>\n",
       "      <td>0.000111</td>\n",
       "      <td>1.000000</td>\n",
       "      <td>0.213247</td>\n",
       "    </tr>\n",
       "    <tr>\n",
       "      <th>dimension</th>\n",
       "      <td>-0.008303</td>\n",
       "      <td>-0.097317</td>\n",
       "      <td>0.386358</td>\n",
       "      <td>-0.086761</td>\n",
       "      <td>-0.066280</td>\n",
       "      <td>0.068406</td>\n",
       "      <td>0.046205</td>\n",
       "      <td>0.076218</td>\n",
       "      <td>0.021480</td>\n",
       "      <td>0.128053</td>\n",
       "      <td>0.164174</td>\n",
       "      <td>0.213247</td>\n",
       "      <td>1.000000</td>\n",
       "    </tr>\n",
       "  </tbody>\n",
       "</table>\n",
       "</div>"
      ],
      "text/plain": [
       "                 label   radius    texture  perimeter      area  smoothness   \\\n",
       "label         1.000000  0.730029  0.415185   0.742636  0.708984     0.358560   \n",
       "radius        0.730029  1.000000  0.323782   0.997855  0.987357     0.170581   \n",
       "texture       0.415185  0.323782  1.000000   0.329533  0.321086    -0.023389   \n",
       "perimeter     0.742636  0.997855  0.329533   1.000000  0.986507     0.207278   \n",
       "area          0.708984  0.987357  0.321086   0.986507  1.000000     0.177028   \n",
       "smoothness    0.358560  0.170581 -0.023389   0.207278  0.177028     1.000000   \n",
       "compactness   0.596534  0.506124  0.236702   0.556936  0.498502     0.659123   \n",
       "concavity     0.696360  0.676764  0.302418   0.716136  0.685983     0.521984   \n",
       "concave       0.776614  0.822529  0.293464   0.850977  0.823269     0.553695   \n",
       "points        0.330499  0.147741  0.071401   0.183027  0.151293     0.557775   \n",
       "symmetry     -0.012838 -0.311631 -0.076437  -0.261477 -0.283110     0.584792   \n",
       "fractal       0.567134  0.679090  0.275869   0.691765  0.732562     0.301467   \n",
       " dimension   -0.008303 -0.097317  0.386358  -0.086761 -0.066280     0.068406   \n",
       "\n",
       "              compactness   concavity  concave      points  symmetry  \\\n",
       "label             0.596534   0.696360   0.776614  0.330499 -0.012838   \n",
       "radius            0.506124   0.676764   0.822529  0.147741 -0.311631   \n",
       "texture           0.236702   0.302418   0.293464  0.071401 -0.076437   \n",
       "perimeter         0.556936   0.716136   0.850977  0.183027 -0.261477   \n",
       "area              0.498502   0.685983   0.823269  0.151293 -0.283110   \n",
       "smoothness        0.659123   0.521984   0.553695  0.557775  0.584792   \n",
       "compactness       1.000000   0.883121   0.831135  0.602641  0.565369   \n",
       "concavity         0.883121   1.000000   0.921391  0.500667  0.336783   \n",
       "concave           0.831135   0.921391   1.000000  0.462497  0.166917   \n",
       "points            0.602641   0.500667   0.462497  1.000000  0.479921   \n",
       "symmetry          0.565369   0.336783   0.166917  0.479921  1.000000   \n",
       "fractal           0.497473   0.631925   0.698050  0.303379  0.000111   \n",
       " dimension        0.046205   0.076218   0.021480  0.128053  0.164174   \n",
       "\n",
       "               fractal   dimension  \n",
       "label         0.567134   -0.008303  \n",
       "radius        0.679090   -0.097317  \n",
       "texture       0.275869    0.386358  \n",
       "perimeter     0.691765   -0.086761  \n",
       "area          0.732562   -0.066280  \n",
       "smoothness    0.301467    0.068406  \n",
       "compactness   0.497473    0.046205  \n",
       "concavity     0.631925    0.076218  \n",
       "concave       0.698050    0.021480  \n",
       "points        0.303379    0.128053  \n",
       "symmetry      0.000111    0.164174  \n",
       "fractal       1.000000    0.213247  \n",
       " dimension    0.213247    1.000000  "
      ]
     },
     "execution_count": 48,
     "metadata": {},
     "output_type": "execute_result"
    }
   ],
   "source": [
    "df.corr()"
   ]
  },
  {
   "cell_type": "markdown",
   "metadata": {},
   "source": [
    "# LogisticRegression"
   ]
  },
  {
   "cell_type": "code",
   "execution_count": 49,
   "metadata": {},
   "outputs": [],
   "source": [
    "# define our features and target:\n",
    "\n",
    "features = ['radius ', 'perimeter', 'area', 'compactness ', 'concave  ']\n",
    "target = 'label'\n",
    "X = df[features]\n",
    "y = df[target]"
   ]
  },
  {
   "cell_type": "code",
   "execution_count": 50,
   "metadata": {},
   "outputs": [],
   "source": [
    "from sklearn.model_selection import train_test_split\n",
    "\n",
    "X_train, X_test, y_train, y_test = train_test_split(X, y, test_size = 0.3, random_state = 42)"
   ]
  },
  {
   "cell_type": "code",
   "execution_count": 51,
   "metadata": {},
   "outputs": [
    {
     "data": {
      "text/html": [
       "<div>\n",
       "<style scoped>\n",
       "    .dataframe tbody tr th:only-of-type {\n",
       "        vertical-align: middle;\n",
       "    }\n",
       "\n",
       "    .dataframe tbody tr th {\n",
       "        vertical-align: top;\n",
       "    }\n",
       "\n",
       "    .dataframe thead th {\n",
       "        text-align: right;\n",
       "    }\n",
       "</style>\n",
       "<table border=\"1\" class=\"dataframe\">\n",
       "  <thead>\n",
       "    <tr style=\"text-align: right;\">\n",
       "      <th></th>\n",
       "      <th>radius</th>\n",
       "      <th>perimeter</th>\n",
       "      <th>area</th>\n",
       "      <th>compactness</th>\n",
       "      <th>concave</th>\n",
       "    </tr>\n",
       "  </thead>\n",
       "  <tbody>\n",
       "    <tr>\n",
       "      <th>149</th>\n",
       "      <td>13.74</td>\n",
       "      <td>88.12</td>\n",
       "      <td>585.0</td>\n",
       "      <td>0.06376</td>\n",
       "      <td>0.01329</td>\n",
       "    </tr>\n",
       "    <tr>\n",
       "      <th>124</th>\n",
       "      <td>13.37</td>\n",
       "      <td>86.10</td>\n",
       "      <td>553.5</td>\n",
       "      <td>0.07325</td>\n",
       "      <td>0.02800</td>\n",
       "    </tr>\n",
       "    <tr>\n",
       "      <th>421</th>\n",
       "      <td>14.69</td>\n",
       "      <td>98.22</td>\n",
       "      <td>656.1</td>\n",
       "      <td>0.18360</td>\n",
       "      <td>0.06300</td>\n",
       "    </tr>\n",
       "    <tr>\n",
       "      <th>195</th>\n",
       "      <td>12.91</td>\n",
       "      <td>82.53</td>\n",
       "      <td>516.4</td>\n",
       "      <td>0.05366</td>\n",
       "      <td>0.02377</td>\n",
       "    </tr>\n",
       "    <tr>\n",
       "      <th>545</th>\n",
       "      <td>13.62</td>\n",
       "      <td>87.19</td>\n",
       "      <td>573.2</td>\n",
       "      <td>0.06747</td>\n",
       "      <td>0.02443</td>\n",
       "    </tr>\n",
       "  </tbody>\n",
       "</table>\n",
       "</div>"
      ],
      "text/plain": [
       "     radius   perimeter   area  compactness   concave  \n",
       "149    13.74      88.12  585.0       0.06376    0.01329\n",
       "124    13.37      86.10  553.5       0.07325    0.02800\n",
       "421    14.69      98.22  656.1       0.18360    0.06300\n",
       "195    12.91      82.53  516.4       0.05366    0.02377\n",
       "545    13.62      87.19  573.2       0.06747    0.02443"
      ]
     },
     "execution_count": 51,
     "metadata": {},
     "output_type": "execute_result"
    }
   ],
   "source": [
    "X_train.head()"
   ]
  },
  {
   "cell_type": "code",
   "execution_count": 52,
   "metadata": {},
   "outputs": [
    {
     "data": {
      "text/plain": [
       "LogisticRegression(C=1.0, class_weight=None, dual=False, fit_intercept=True,\n",
       "                   intercept_scaling=1, l1_ratio=None, max_iter=100,\n",
       "                   multi_class='auto', n_jobs=None, penalty='l2',\n",
       "                   random_state=None, solver='lbfgs', tol=0.0001, verbose=0,\n",
       "                   warm_start=False)"
      ]
     },
     "execution_count": 52,
     "metadata": {},
     "output_type": "execute_result"
    }
   ],
   "source": [
    "from sklearn.linear_model import LogisticRegression\n",
    "# Instantiate and fit our model,\n",
    "\n",
    "logreg = LogisticRegression()\n",
    "logreg.fit(X_train, y_train)"
   ]
  },
  {
   "cell_type": "code",
   "execution_count": 53,
   "metadata": {},
   "outputs": [
    {
     "name": "stdout",
     "output_type": "stream",
     "text": [
      "Logistic Regression Accuracy Score: 0.9181286549707602\n"
     ]
    }
   ],
   "source": [
    "print(f'Logistic Regression Accuracy Score: {logreg.score(X_test, y_test)}')"
   ]
  },
  {
   "cell_type": "code",
   "execution_count": null,
   "metadata": {},
   "outputs": [],
   "source": []
  },
  {
   "cell_type": "markdown",
   "metadata": {},
   "source": [
    "# RandomForestClassifier\n",
    "# ExtraTreesClassifier\n",
    "# GridSearchCV"
   ]
  },
  {
   "cell_type": "code",
   "execution_count": 54,
   "metadata": {},
   "outputs": [],
   "source": [
    "df_train, df_test = train_test_split(df, test_size = 42) "
   ]
  },
  {
   "cell_type": "code",
   "execution_count": 55,
   "metadata": {},
   "outputs": [],
   "source": [
    "features = ['radius ', 'perimeter', 'area', 'compactness ', 'concave  ']\n",
    "target = 'label'\n",
    "\n",
    "X = df_train[features]\n",
    "y = df_train[target]"
   ]
  },
  {
   "cell_type": "code",
   "execution_count": 56,
   "metadata": {},
   "outputs": [
    {
     "data": {
      "text/plain": [
       "0    0.622391\n",
       "1    0.377609\n",
       "Name: label, dtype: float64"
      ]
     },
     "execution_count": 56,
     "metadata": {},
     "output_type": "execute_result"
    }
   ],
   "source": [
    "y.value_counts(normalize = True)"
   ]
  },
  {
   "cell_type": "code",
   "execution_count": 57,
   "metadata": {},
   "outputs": [],
   "source": [
    "from sklearn.ensemble import RandomForestClassifier, ExtraTreesClassifier\n",
    "from sklearn.model_selection import train_test_split, GridSearchCV, cross_val_score"
   ]
  },
  {
   "cell_type": "code",
   "execution_count": 58,
   "metadata": {},
   "outputs": [],
   "source": [
    "X_train, X_val, y_train, y_val = train_test_split(X, y, random_state = 42, stratify = y)"
   ]
  },
  {
   "cell_type": "code",
   "execution_count": 59,
   "metadata": {},
   "outputs": [],
   "source": [
    "rf = RandomForestClassifier()"
   ]
  },
  {
   "cell_type": "code",
   "execution_count": 60,
   "metadata": {},
   "outputs": [],
   "source": [
    "et = ExtraTreesClassifier()"
   ]
  },
  {
   "cell_type": "code",
   "execution_count": 61,
   "metadata": {},
   "outputs": [
    {
     "data": {
      "text/plain": [
       "array([0.89873418, 0.91139241, 0.91139241, 0.93670886, 0.92405063])"
      ]
     },
     "execution_count": 61,
     "metadata": {},
     "output_type": "execute_result"
    }
   ],
   "source": [
    "cross_val_score(rf, X_train, y_train, cv = 5)"
   ]
  },
  {
   "cell_type": "code",
   "execution_count": 62,
   "metadata": {},
   "outputs": [
    {
     "data": {
      "text/plain": [
       "0.9139240506329113"
      ]
     },
     "execution_count": 62,
     "metadata": {},
     "output_type": "execute_result"
    }
   ],
   "source": [
    "cross_val_score(rf, X_train, y_train, cv = 5).mean()"
   ]
  },
  {
   "cell_type": "code",
   "execution_count": 63,
   "metadata": {},
   "outputs": [
    {
     "data": {
      "text/plain": [
       "array([0.93670886, 0.92405063, 0.92405063, 0.94936709, 0.92405063])"
      ]
     },
     "execution_count": 63,
     "metadata": {},
     "output_type": "execute_result"
    }
   ],
   "source": [
    "cross_val_score(et, X_train, y_train, cv = 5)"
   ]
  },
  {
   "cell_type": "code",
   "execution_count": 64,
   "metadata": {},
   "outputs": [
    {
     "data": {
      "text/plain": [
       "0.9215189873417721"
      ]
     },
     "execution_count": 64,
     "metadata": {},
     "output_type": "execute_result"
    }
   ],
   "source": [
    "cross_val_score(et, X_train, y_train, cv = 5).mean()"
   ]
  },
  {
   "cell_type": "code",
   "execution_count": 65,
   "metadata": {},
   "outputs": [
    {
     "name": "stdout",
     "output_type": "stream",
     "text": [
      "0.9189873417721518\n"
     ]
    },
    {
     "data": {
      "text/plain": [
       "{}"
      ]
     },
     "execution_count": 65,
     "metadata": {},
     "output_type": "execute_result"
    }
   ],
   "source": [
    "rf = RandomForestClassifier()\n",
    "params = {}\n",
    "gs = GridSearchCV(rf, param_grid = params, cv = 5)\n",
    "gs.fit(X_train, y_train)\n",
    "print(gs.best_score_)                                      # cross val score\n",
    "gs.best_params_"
   ]
  },
  {
   "cell_type": "code",
   "execution_count": 66,
   "metadata": {},
   "outputs": [
    {
     "name": "stdout",
     "output_type": "stream",
     "text": [
      "0.9189873417721518\n"
     ]
    },
    {
     "data": {
      "text/plain": [
       "{'n_estimators': 50}"
      ]
     },
     "execution_count": 66,
     "metadata": {},
     "output_type": "execute_result"
    }
   ],
   "source": [
    "rf = RandomForestClassifier()\n",
    "params = {\n",
    "    'n_estimators': [50, 100]\n",
    "}\n",
    "gs = GridSearchCV(rf, param_grid = params, cv = 5)\n",
    "gs.fit(X_train, y_train)\n",
    "print(gs.best_score_)                                      # cross val score\n",
    "gs.best_params_"
   ]
  },
  {
   "cell_type": "code",
   "execution_count": 67,
   "metadata": {},
   "outputs": [
    {
     "name": "stdout",
     "output_type": "stream",
     "text": [
      "0.9291139240506329\n"
     ]
    },
    {
     "data": {
      "text/plain": [
       "{'max_features': 'auto', 'n_estimators': 100}"
      ]
     },
     "execution_count": 67,
     "metadata": {},
     "output_type": "execute_result"
    }
   ],
   "source": [
    "rf = RandomForestClassifier()\n",
    "params = {\n",
    "    'n_estimators': [50, 100],\n",
    "    'max_features': [None, 'auto']\n",
    "}\n",
    "gs = GridSearchCV(rf, param_grid = params, cv = 5)\n",
    "gs.fit(X_train, y_train)\n",
    "print(gs.best_score_)                                      # cross val score\n",
    "gs.best_params_"
   ]
  },
  {
   "cell_type": "code",
   "execution_count": 68,
   "metadata": {},
   "outputs": [
    {
     "name": "stdout",
     "output_type": "stream",
     "text": [
      "0.9240506329113923\n"
     ]
    },
    {
     "data": {
      "text/plain": [
       "{'max_depth': None, 'max_features': None, 'n_estimators': 100}"
      ]
     },
     "execution_count": 68,
     "metadata": {},
     "output_type": "execute_result"
    }
   ],
   "source": [
    "rf = RandomForestClassifier()\n",
    "params = {\n",
    "    'n_estimators': [50, 100],\n",
    "    'max_features': [None, 'auto'],\n",
    "    'max_depth': [None, 2, 3, 4]\n",
    "}\n",
    "gs = GridSearchCV(rf, param_grid = params, cv = 5)\n",
    "gs.fit(X_train, y_train)\n",
    "print(gs.best_score_)                              # cross val score\n",
    "gs.best_params_"
   ]
  },
  {
   "cell_type": "code",
   "execution_count": 69,
   "metadata": {},
   "outputs": [
    {
     "name": "stdout",
     "output_type": "stream",
     "text": [
      "0.9291139240506329\n"
     ]
    },
    {
     "data": {
      "text/plain": [
       "{'max_depth': None, 'max_features': None, 'n_estimators': 100}"
      ]
     },
     "execution_count": 69,
     "metadata": {},
     "output_type": "execute_result"
    }
   ],
   "source": [
    "rf = RandomForestClassifier(random_state = 42)\n",
    "params = {\n",
    "    'n_estimators': [50, 100],\n",
    "    'max_features': [None, 'auto'],\n",
    "    'max_depth': [None, 2, 3, 4]\n",
    "}\n",
    "gs = GridSearchCV(rf, param_grid = params, cv = 5)\n",
    "gs.fit(X_train, y_train)\n",
    "print(gs.best_score_)                                  # cross val score\n",
    "gs.best_params_"
   ]
  },
  {
   "cell_type": "markdown",
   "metadata": {},
   "source": [
    "**Answer**; It seems the score is high which is a reason and an evidence for our model that is over-fitting.\n",
    "I am thinking about two cases, first do again with only one feature that is the mean of radius. Secondly I want to use some more features."
   ]
  },
  {
   "cell_type": "markdown",
   "metadata": {},
   "source": [
    "# Super Vector Machine"
   ]
  },
  {
   "cell_type": "code",
   "execution_count": 70,
   "metadata": {
    "scrolled": true
   },
   "outputs": [
    {
     "data": {
      "text/plain": [
       "SVC(C=1.0, break_ties=False, cache_size=200, class_weight=None, coef0=0.0,\n",
       "    decision_function_shape='ovr', degree=3, gamma='scale', kernel='rbf',\n",
       "    max_iter=-1, probability=False, random_state=100, shrinking=True, tol=0.001,\n",
       "    verbose=False)"
      ]
     },
     "execution_count": 70,
     "metadata": {},
     "output_type": "execute_result"
    }
   ],
   "source": [
    "# Instantiate support vector machine.\n",
    "\n",
    "from sklearn.svm import SVC\n",
    "\n",
    "svc = SVC(random_state = 100)\n",
    "svc.fit(X_train, y_train)"
   ]
  },
  {
   "cell_type": "code",
   "execution_count": 71,
   "metadata": {},
   "outputs": [
    {
     "data": {
      "text/plain": [
       "0.8759493670886076"
      ]
     },
     "execution_count": 71,
     "metadata": {},
     "output_type": "execute_result"
    }
   ],
   "source": [
    "svc.score(X_train, y_train)"
   ]
  },
  {
   "cell_type": "code",
   "execution_count": 72,
   "metadata": {},
   "outputs": [
    {
     "data": {
      "text/plain": [
       "0.8888888888888888"
      ]
     },
     "execution_count": 72,
     "metadata": {},
     "output_type": "execute_result"
    }
   ],
   "source": [
    "svc.score(X_test, y_test)"
   ]
  },
  {
   "cell_type": "code",
   "execution_count": 73,
   "metadata": {},
   "outputs": [],
   "source": [
    "# Generate predictions.\n",
    "predicttions = svc.predict(X_test)"
   ]
  },
  {
   "cell_type": "code",
   "execution_count": 74,
   "metadata": {},
   "outputs": [
    {
     "data": {
      "text/plain": [
       "0.8888888888888888"
      ]
     },
     "execution_count": 74,
     "metadata": {},
     "output_type": "execute_result"
    }
   ],
   "source": [
    "# Measure performance based on accuracy.\n",
    "\n",
    "from sklearn.metrics import accuracy_score\n",
    "\n",
    "accuracy_score(y_test, predicttions)"
   ]
  },
  {
   "cell_type": "code",
   "execution_count": 75,
   "metadata": {},
   "outputs": [
    {
     "data": {
      "text/plain": [
       "0.8947368421052632"
      ]
     },
     "execution_count": 75,
     "metadata": {},
     "output_type": "execute_result"
    }
   ],
   "source": [
    "# Instantiate SVM.\n",
    "\n",
    "svc = SVC(C = 100, kernel = \"rbf\", gamma = \"scale\")\n",
    "\n",
    "# Fit on training data.\n",
    "\n",
    "svc.fit(X_train, y_train)\n",
    "\n",
    "# Evaluate model.\n",
    "\n",
    "accuracy_score(y_test, svc.predict(X_test))"
   ]
  },
  {
   "cell_type": "markdown",
   "metadata": {},
   "source": [
    "**Answer**: SVMs are fantastic models if all you care about is predictive ability. I think we can scale our data and do all for better result."
   ]
  },
  {
   "cell_type": "code",
   "execution_count": 76,
   "metadata": {},
   "outputs": [],
   "source": [
    "from sklearn.tree import DecisionTreeClassifier\n",
    "\n",
    "# Instantiate `DecisionTreeClassifier` object.\n",
    "\n",
    "tree = DecisionTreeClassifier(random_state = 42)"
   ]
  },
  {
   "cell_type": "code",
   "execution_count": 77,
   "metadata": {},
   "outputs": [
    {
     "data": {
      "text/plain": [
       "1.0"
      ]
     },
     "execution_count": 77,
     "metadata": {},
     "output_type": "execute_result"
    }
   ],
   "source": [
    "# Fit and score on the training data.\n",
    "\n",
    "tree.fit(X_train, y_train)\n",
    "tree.score(X_train, y_train)"
   ]
  },
  {
   "cell_type": "code",
   "execution_count": 78,
   "metadata": {},
   "outputs": [
    {
     "data": {
      "text/plain": [
       "0.9473684210526315"
      ]
     },
     "execution_count": 78,
     "metadata": {},
     "output_type": "execute_result"
    }
   ],
   "source": [
    "# Score on the testing data.\n",
    "\n",
    "tree.score(X_test, y_test)"
   ]
  },
  {
   "cell_type": "markdown",
   "metadata": {},
   "source": [
    "**Answer**: It is very easily overfit and it is going to suffer high error due to variance."
   ]
  },
  {
   "cell_type": "markdown",
   "metadata": {},
   "source": [
    "# Bootstrapping"
   ]
  },
  {
   "cell_type": "code",
   "execution_count": 79,
   "metadata": {},
   "outputs": [
    {
     "data": {
      "text/html": [
       "<div>\n",
       "<style scoped>\n",
       "    .dataframe tbody tr th:only-of-type {\n",
       "        vertical-align: middle;\n",
       "    }\n",
       "\n",
       "    .dataframe tbody tr th {\n",
       "        vertical-align: top;\n",
       "    }\n",
       "\n",
       "    .dataframe thead th {\n",
       "        text-align: right;\n",
       "    }\n",
       "</style>\n",
       "<table border=\"1\" class=\"dataframe\">\n",
       "  <thead>\n",
       "    <tr style=\"text-align: right;\">\n",
       "      <th></th>\n",
       "      <th>radius</th>\n",
       "      <th>perimeter</th>\n",
       "      <th>area</th>\n",
       "      <th>compactness</th>\n",
       "      <th>concave</th>\n",
       "    </tr>\n",
       "  </thead>\n",
       "  <tbody>\n",
       "    <tr>\n",
       "      <th>441</th>\n",
       "      <td>17.270</td>\n",
       "      <td>112.40</td>\n",
       "      <td>928.8</td>\n",
       "      <td>0.11090</td>\n",
       "      <td>0.057360</td>\n",
       "    </tr>\n",
       "    <tr>\n",
       "      <th>453</th>\n",
       "      <td>14.530</td>\n",
       "      <td>93.86</td>\n",
       "      <td>644.2</td>\n",
       "      <td>0.09242</td>\n",
       "      <td>0.064950</td>\n",
       "    </tr>\n",
       "    <tr>\n",
       "      <th>65</th>\n",
       "      <td>14.780</td>\n",
       "      <td>97.40</td>\n",
       "      <td>668.3</td>\n",
       "      <td>0.14790</td>\n",
       "      <td>0.090290</td>\n",
       "    </tr>\n",
       "    <tr>\n",
       "      <th>241</th>\n",
       "      <td>12.420</td>\n",
       "      <td>78.61</td>\n",
       "      <td>476.5</td>\n",
       "      <td>0.03393</td>\n",
       "      <td>0.011080</td>\n",
       "    </tr>\n",
       "    <tr>\n",
       "      <th>27</th>\n",
       "      <td>18.610</td>\n",
       "      <td>122.10</td>\n",
       "      <td>1094.0</td>\n",
       "      <td>0.10660</td>\n",
       "      <td>0.077310</td>\n",
       "    </tr>\n",
       "    <tr>\n",
       "      <th>340</th>\n",
       "      <td>14.420</td>\n",
       "      <td>94.15</td>\n",
       "      <td>641.2</td>\n",
       "      <td>0.11390</td>\n",
       "      <td>0.042230</td>\n",
       "    </tr>\n",
       "    <tr>\n",
       "      <th>128</th>\n",
       "      <td>15.100</td>\n",
       "      <td>99.58</td>\n",
       "      <td>674.5</td>\n",
       "      <td>0.18070</td>\n",
       "      <td>0.085340</td>\n",
       "    </tr>\n",
       "    <tr>\n",
       "      <th>441</th>\n",
       "      <td>17.270</td>\n",
       "      <td>112.40</td>\n",
       "      <td>928.8</td>\n",
       "      <td>0.11090</td>\n",
       "      <td>0.057360</td>\n",
       "    </tr>\n",
       "    <tr>\n",
       "      <th>18</th>\n",
       "      <td>19.810</td>\n",
       "      <td>130.00</td>\n",
       "      <td>1260.0</td>\n",
       "      <td>0.10270</td>\n",
       "      <td>0.094980</td>\n",
       "    </tr>\n",
       "    <tr>\n",
       "      <th>176</th>\n",
       "      <td>9.904</td>\n",
       "      <td>64.60</td>\n",
       "      <td>302.4</td>\n",
       "      <td>0.12940</td>\n",
       "      <td>0.037160</td>\n",
       "    </tr>\n",
       "    <tr>\n",
       "      <th>416</th>\n",
       "      <td>9.405</td>\n",
       "      <td>59.60</td>\n",
       "      <td>271.2</td>\n",
       "      <td>0.06159</td>\n",
       "      <td>0.012570</td>\n",
       "    </tr>\n",
       "    <tr>\n",
       "      <th>234</th>\n",
       "      <td>9.567</td>\n",
       "      <td>60.21</td>\n",
       "      <td>279.6</td>\n",
       "      <td>0.04087</td>\n",
       "      <td>0.016670</td>\n",
       "    </tr>\n",
       "    <tr>\n",
       "      <th>311</th>\n",
       "      <td>14.610</td>\n",
       "      <td>92.68</td>\n",
       "      <td>664.9</td>\n",
       "      <td>0.03515</td>\n",
       "      <td>0.018770</td>\n",
       "    </tr>\n",
       "    <tr>\n",
       "      <th>186</th>\n",
       "      <td>18.310</td>\n",
       "      <td>118.60</td>\n",
       "      <td>1041.0</td>\n",
       "      <td>0.08468</td>\n",
       "      <td>0.058140</td>\n",
       "    </tr>\n",
       "    <tr>\n",
       "      <th>331</th>\n",
       "      <td>12.980</td>\n",
       "      <td>84.52</td>\n",
       "      <td>514.0</td>\n",
       "      <td>0.11250</td>\n",
       "      <td>0.029500</td>\n",
       "    </tr>\n",
       "    <tr>\n",
       "      <th>372</th>\n",
       "      <td>21.370</td>\n",
       "      <td>141.30</td>\n",
       "      <td>1386.0</td>\n",
       "      <td>0.15150</td>\n",
       "      <td>0.125500</td>\n",
       "    </tr>\n",
       "    <tr>\n",
       "      <th>352</th>\n",
       "      <td>25.730</td>\n",
       "      <td>174.20</td>\n",
       "      <td>2010.0</td>\n",
       "      <td>0.23630</td>\n",
       "      <td>0.191300</td>\n",
       "    </tr>\n",
       "    <tr>\n",
       "      <th>545</th>\n",
       "      <td>13.620</td>\n",
       "      <td>87.19</td>\n",
       "      <td>573.2</td>\n",
       "      <td>0.06747</td>\n",
       "      <td>0.024430</td>\n",
       "    </tr>\n",
       "    <tr>\n",
       "      <th>532</th>\n",
       "      <td>13.680</td>\n",
       "      <td>87.76</td>\n",
       "      <td>575.5</td>\n",
       "      <td>0.07255</td>\n",
       "      <td>0.018800</td>\n",
       "    </tr>\n",
       "    <tr>\n",
       "      <th>113</th>\n",
       "      <td>10.510</td>\n",
       "      <td>68.64</td>\n",
       "      <td>334.2</td>\n",
       "      <td>0.13030</td>\n",
       "      <td>0.030680</td>\n",
       "    </tr>\n",
       "    <tr>\n",
       "      <th>155</th>\n",
       "      <td>12.250</td>\n",
       "      <td>78.27</td>\n",
       "      <td>460.3</td>\n",
       "      <td>0.06679</td>\n",
       "      <td>0.023310</td>\n",
       "    </tr>\n",
       "    <tr>\n",
       "      <th>491</th>\n",
       "      <td>17.850</td>\n",
       "      <td>114.60</td>\n",
       "      <td>992.1</td>\n",
       "      <td>0.06217</td>\n",
       "      <td>0.041780</td>\n",
       "    </tr>\n",
       "    <tr>\n",
       "      <th>551</th>\n",
       "      <td>11.130</td>\n",
       "      <td>71.49</td>\n",
       "      <td>378.4</td>\n",
       "      <td>0.08194</td>\n",
       "      <td>0.022570</td>\n",
       "    </tr>\n",
       "    <tr>\n",
       "      <th>515</th>\n",
       "      <td>11.340</td>\n",
       "      <td>72.76</td>\n",
       "      <td>391.2</td>\n",
       "      <td>0.08499</td>\n",
       "      <td>0.025940</td>\n",
       "    </tr>\n",
       "    <tr>\n",
       "      <th>252</th>\n",
       "      <td>19.730</td>\n",
       "      <td>130.70</td>\n",
       "      <td>1206.0</td>\n",
       "      <td>0.18490</td>\n",
       "      <td>0.097400</td>\n",
       "    </tr>\n",
       "    <tr>\n",
       "      <th>528</th>\n",
       "      <td>13.940</td>\n",
       "      <td>90.31</td>\n",
       "      <td>594.2</td>\n",
       "      <td>0.09755</td>\n",
       "      <td>0.066150</td>\n",
       "    </tr>\n",
       "    <tr>\n",
       "      <th>461</th>\n",
       "      <td>27.420</td>\n",
       "      <td>186.90</td>\n",
       "      <td>2501.0</td>\n",
       "      <td>0.19880</td>\n",
       "      <td>0.168900</td>\n",
       "    </tr>\n",
       "    <tr>\n",
       "      <th>391</th>\n",
       "      <td>8.734</td>\n",
       "      <td>55.27</td>\n",
       "      <td>234.3</td>\n",
       "      <td>0.07428</td>\n",
       "      <td>0.000000</td>\n",
       "    </tr>\n",
       "    <tr>\n",
       "      <th>156</th>\n",
       "      <td>17.680</td>\n",
       "      <td>117.40</td>\n",
       "      <td>963.7</td>\n",
       "      <td>0.16650</td>\n",
       "      <td>0.105400</td>\n",
       "    </tr>\n",
       "    <tr>\n",
       "      <th>45</th>\n",
       "      <td>18.650</td>\n",
       "      <td>123.70</td>\n",
       "      <td>1076.0</td>\n",
       "      <td>0.16860</td>\n",
       "      <td>0.100900</td>\n",
       "    </tr>\n",
       "    <tr>\n",
       "      <th>...</th>\n",
       "      <td>...</td>\n",
       "      <td>...</td>\n",
       "      <td>...</td>\n",
       "      <td>...</td>\n",
       "      <td>...</td>\n",
       "    </tr>\n",
       "    <tr>\n",
       "      <th>311</th>\n",
       "      <td>14.610</td>\n",
       "      <td>92.68</td>\n",
       "      <td>664.9</td>\n",
       "      <td>0.03515</td>\n",
       "      <td>0.018770</td>\n",
       "    </tr>\n",
       "    <tr>\n",
       "      <th>42</th>\n",
       "      <td>19.070</td>\n",
       "      <td>128.30</td>\n",
       "      <td>1104.0</td>\n",
       "      <td>0.21900</td>\n",
       "      <td>0.099610</td>\n",
       "    </tr>\n",
       "    <tr>\n",
       "      <th>524</th>\n",
       "      <td>9.847</td>\n",
       "      <td>63.00</td>\n",
       "      <td>293.2</td>\n",
       "      <td>0.08419</td>\n",
       "      <td>0.024160</td>\n",
       "    </tr>\n",
       "    <tr>\n",
       "      <th>223</th>\n",
       "      <td>15.750</td>\n",
       "      <td>102.60</td>\n",
       "      <td>761.3</td>\n",
       "      <td>0.12040</td>\n",
       "      <td>0.064620</td>\n",
       "    </tr>\n",
       "    <tr>\n",
       "      <th>243</th>\n",
       "      <td>13.750</td>\n",
       "      <td>88.54</td>\n",
       "      <td>590.0</td>\n",
       "      <td>0.06807</td>\n",
       "      <td>0.023440</td>\n",
       "    </tr>\n",
       "    <tr>\n",
       "      <th>144</th>\n",
       "      <td>10.750</td>\n",
       "      <td>68.26</td>\n",
       "      <td>355.3</td>\n",
       "      <td>0.05139</td>\n",
       "      <td>0.007875</td>\n",
       "    </tr>\n",
       "    <tr>\n",
       "      <th>466</th>\n",
       "      <td>13.140</td>\n",
       "      <td>85.98</td>\n",
       "      <td>536.9</td>\n",
       "      <td>0.10890</td>\n",
       "      <td>0.035100</td>\n",
       "    </tr>\n",
       "    <tr>\n",
       "      <th>453</th>\n",
       "      <td>14.530</td>\n",
       "      <td>93.86</td>\n",
       "      <td>644.2</td>\n",
       "      <td>0.09242</td>\n",
       "      <td>0.064950</td>\n",
       "    </tr>\n",
       "    <tr>\n",
       "      <th>325</th>\n",
       "      <td>12.670</td>\n",
       "      <td>81.25</td>\n",
       "      <td>489.9</td>\n",
       "      <td>0.07664</td>\n",
       "      <td>0.021070</td>\n",
       "    </tr>\n",
       "    <tr>\n",
       "      <th>550</th>\n",
       "      <td>10.860</td>\n",
       "      <td>68.51</td>\n",
       "      <td>360.5</td>\n",
       "      <td>0.04227</td>\n",
       "      <td>0.000000</td>\n",
       "    </tr>\n",
       "    <tr>\n",
       "      <th>520</th>\n",
       "      <td>9.295</td>\n",
       "      <td>59.96</td>\n",
       "      <td>257.8</td>\n",
       "      <td>0.12250</td>\n",
       "      <td>0.024210</td>\n",
       "    </tr>\n",
       "    <tr>\n",
       "      <th>524</th>\n",
       "      <td>9.847</td>\n",
       "      <td>63.00</td>\n",
       "      <td>293.2</td>\n",
       "      <td>0.08419</td>\n",
       "      <td>0.024160</td>\n",
       "    </tr>\n",
       "    <tr>\n",
       "      <th>30</th>\n",
       "      <td>18.630</td>\n",
       "      <td>124.80</td>\n",
       "      <td>1088.0</td>\n",
       "      <td>0.18870</td>\n",
       "      <td>0.124400</td>\n",
       "    </tr>\n",
       "    <tr>\n",
       "      <th>320</th>\n",
       "      <td>10.250</td>\n",
       "      <td>66.52</td>\n",
       "      <td>324.2</td>\n",
       "      <td>0.11110</td>\n",
       "      <td>0.039650</td>\n",
       "    </tr>\n",
       "    <tr>\n",
       "      <th>80</th>\n",
       "      <td>11.450</td>\n",
       "      <td>73.81</td>\n",
       "      <td>401.5</td>\n",
       "      <td>0.09362</td>\n",
       "      <td>0.022330</td>\n",
       "    </tr>\n",
       "    <tr>\n",
       "      <th>156</th>\n",
       "      <td>17.680</td>\n",
       "      <td>117.40</td>\n",
       "      <td>963.7</td>\n",
       "      <td>0.16650</td>\n",
       "      <td>0.105400</td>\n",
       "    </tr>\n",
       "    <tr>\n",
       "      <th>528</th>\n",
       "      <td>13.940</td>\n",
       "      <td>90.31</td>\n",
       "      <td>594.2</td>\n",
       "      <td>0.09755</td>\n",
       "      <td>0.066150</td>\n",
       "    </tr>\n",
       "    <tr>\n",
       "      <th>346</th>\n",
       "      <td>12.060</td>\n",
       "      <td>76.66</td>\n",
       "      <td>445.3</td>\n",
       "      <td>0.05794</td>\n",
       "      <td>0.008488</td>\n",
       "    </tr>\n",
       "    <tr>\n",
       "      <th>195</th>\n",
       "      <td>12.910</td>\n",
       "      <td>82.53</td>\n",
       "      <td>516.4</td>\n",
       "      <td>0.05366</td>\n",
       "      <td>0.023770</td>\n",
       "    </tr>\n",
       "    <tr>\n",
       "      <th>199</th>\n",
       "      <td>14.450</td>\n",
       "      <td>94.49</td>\n",
       "      <td>642.7</td>\n",
       "      <td>0.12060</td>\n",
       "      <td>0.059800</td>\n",
       "    </tr>\n",
       "    <tr>\n",
       "      <th>397</th>\n",
       "      <td>12.800</td>\n",
       "      <td>83.05</td>\n",
       "      <td>508.3</td>\n",
       "      <td>0.08895</td>\n",
       "      <td>0.040830</td>\n",
       "    </tr>\n",
       "    <tr>\n",
       "      <th>90</th>\n",
       "      <td>14.620</td>\n",
       "      <td>94.57</td>\n",
       "      <td>662.7</td>\n",
       "      <td>0.08606</td>\n",
       "      <td>0.029570</td>\n",
       "    </tr>\n",
       "    <tr>\n",
       "      <th>138</th>\n",
       "      <td>14.950</td>\n",
       "      <td>96.85</td>\n",
       "      <td>678.1</td>\n",
       "      <td>0.13050</td>\n",
       "      <td>0.086240</td>\n",
       "    </tr>\n",
       "    <tr>\n",
       "      <th>488</th>\n",
       "      <td>11.680</td>\n",
       "      <td>75.49</td>\n",
       "      <td>420.5</td>\n",
       "      <td>0.09263</td>\n",
       "      <td>0.031320</td>\n",
       "    </tr>\n",
       "    <tr>\n",
       "      <th>177</th>\n",
       "      <td>16.460</td>\n",
       "      <td>109.30</td>\n",
       "      <td>832.9</td>\n",
       "      <td>0.15560</td>\n",
       "      <td>0.088660</td>\n",
       "    </tr>\n",
       "    <tr>\n",
       "      <th>195</th>\n",
       "      <td>12.910</td>\n",
       "      <td>82.53</td>\n",
       "      <td>516.4</td>\n",
       "      <td>0.05366</td>\n",
       "      <td>0.023770</td>\n",
       "    </tr>\n",
       "    <tr>\n",
       "      <th>331</th>\n",
       "      <td>12.980</td>\n",
       "      <td>84.52</td>\n",
       "      <td>514.0</td>\n",
       "      <td>0.11250</td>\n",
       "      <td>0.029500</td>\n",
       "    </tr>\n",
       "    <tr>\n",
       "      <th>278</th>\n",
       "      <td>13.590</td>\n",
       "      <td>86.24</td>\n",
       "      <td>572.3</td>\n",
       "      <td>0.04052</td>\n",
       "      <td>0.012380</td>\n",
       "    </tr>\n",
       "    <tr>\n",
       "      <th>466</th>\n",
       "      <td>13.140</td>\n",
       "      <td>85.98</td>\n",
       "      <td>536.9</td>\n",
       "      <td>0.10890</td>\n",
       "      <td>0.035100</td>\n",
       "    </tr>\n",
       "    <tr>\n",
       "      <th>365</th>\n",
       "      <td>20.440</td>\n",
       "      <td>133.80</td>\n",
       "      <td>1293.0</td>\n",
       "      <td>0.11310</td>\n",
       "      <td>0.077850</td>\n",
       "    </tr>\n",
       "  </tbody>\n",
       "</table>\n",
       "<p>395 rows × 5 columns</p>\n",
       "</div>"
      ],
      "text/plain": [
       "     radius   perimeter    area  compactness   concave  \n",
       "441   17.270     112.40   928.8       0.11090   0.057360\n",
       "453   14.530      93.86   644.2       0.09242   0.064950\n",
       "65    14.780      97.40   668.3       0.14790   0.090290\n",
       "241   12.420      78.61   476.5       0.03393   0.011080\n",
       "27    18.610     122.10  1094.0       0.10660   0.077310\n",
       "340   14.420      94.15   641.2       0.11390   0.042230\n",
       "128   15.100      99.58   674.5       0.18070   0.085340\n",
       "441   17.270     112.40   928.8       0.11090   0.057360\n",
       "18    19.810     130.00  1260.0       0.10270   0.094980\n",
       "176    9.904      64.60   302.4       0.12940   0.037160\n",
       "416    9.405      59.60   271.2       0.06159   0.012570\n",
       "234    9.567      60.21   279.6       0.04087   0.016670\n",
       "311   14.610      92.68   664.9       0.03515   0.018770\n",
       "186   18.310     118.60  1041.0       0.08468   0.058140\n",
       "331   12.980      84.52   514.0       0.11250   0.029500\n",
       "372   21.370     141.30  1386.0       0.15150   0.125500\n",
       "352   25.730     174.20  2010.0       0.23630   0.191300\n",
       "545   13.620      87.19   573.2       0.06747   0.024430\n",
       "532   13.680      87.76   575.5       0.07255   0.018800\n",
       "113   10.510      68.64   334.2       0.13030   0.030680\n",
       "155   12.250      78.27   460.3       0.06679   0.023310\n",
       "491   17.850     114.60   992.1       0.06217   0.041780\n",
       "551   11.130      71.49   378.4       0.08194   0.022570\n",
       "515   11.340      72.76   391.2       0.08499   0.025940\n",
       "252   19.730     130.70  1206.0       0.18490   0.097400\n",
       "528   13.940      90.31   594.2       0.09755   0.066150\n",
       "461   27.420     186.90  2501.0       0.19880   0.168900\n",
       "391    8.734      55.27   234.3       0.07428   0.000000\n",
       "156   17.680     117.40   963.7       0.16650   0.105400\n",
       "45    18.650     123.70  1076.0       0.16860   0.100900\n",
       "..       ...        ...     ...           ...        ...\n",
       "311   14.610      92.68   664.9       0.03515   0.018770\n",
       "42    19.070     128.30  1104.0       0.21900   0.099610\n",
       "524    9.847      63.00   293.2       0.08419   0.024160\n",
       "223   15.750     102.60   761.3       0.12040   0.064620\n",
       "243   13.750      88.54   590.0       0.06807   0.023440\n",
       "144   10.750      68.26   355.3       0.05139   0.007875\n",
       "466   13.140      85.98   536.9       0.10890   0.035100\n",
       "453   14.530      93.86   644.2       0.09242   0.064950\n",
       "325   12.670      81.25   489.9       0.07664   0.021070\n",
       "550   10.860      68.51   360.5       0.04227   0.000000\n",
       "520    9.295      59.96   257.8       0.12250   0.024210\n",
       "524    9.847      63.00   293.2       0.08419   0.024160\n",
       "30    18.630     124.80  1088.0       0.18870   0.124400\n",
       "320   10.250      66.52   324.2       0.11110   0.039650\n",
       "80    11.450      73.81   401.5       0.09362   0.022330\n",
       "156   17.680     117.40   963.7       0.16650   0.105400\n",
       "528   13.940      90.31   594.2       0.09755   0.066150\n",
       "346   12.060      76.66   445.3       0.05794   0.008488\n",
       "195   12.910      82.53   516.4       0.05366   0.023770\n",
       "199   14.450      94.49   642.7       0.12060   0.059800\n",
       "397   12.800      83.05   508.3       0.08895   0.040830\n",
       "90    14.620      94.57   662.7       0.08606   0.029570\n",
       "138   14.950      96.85   678.1       0.13050   0.086240\n",
       "488   11.680      75.49   420.5       0.09263   0.031320\n",
       "177   16.460     109.30   832.9       0.15560   0.088660\n",
       "195   12.910      82.53   516.4       0.05366   0.023770\n",
       "331   12.980      84.52   514.0       0.11250   0.029500\n",
       "278   13.590      86.24   572.3       0.04052   0.012380\n",
       "466   13.140      85.98   536.9       0.10890   0.035100\n",
       "365   20.440     133.80  1293.0       0.11310   0.077850\n",
       "\n",
       "[395 rows x 5 columns]"
      ]
     },
     "execution_count": 79,
     "metadata": {},
     "output_type": "execute_result"
    }
   ],
   "source": [
    "# Generate one bootstrapped sample\n",
    "# of size n from X_train.\n",
    "\n",
    "X_train.sample(n = X_train.shape[0], replace = True, random_state = 42)         "
   ]
  },
  {
   "cell_type": "code",
   "execution_count": 80,
   "metadata": {},
   "outputs": [],
   "source": [
    "# define a function that will generate bootstrapped samples for us;\n",
    "\n",
    "def bootstrap(data, numbers):\n",
    "    # Create empty list for output.\n",
    "    output = []\n",
    "    \n",
    "    # Generate num_B bootstrapped samples.\n",
    "    for num in range(numbers):\n",
    "        \n",
    "        # Each sample is sampled from df with\n",
    "        # the same sample size as the original\n",
    "        # data, and samples with replacement.\n",
    "        bootstrapped_sample = df.sample(n = data.shape[0],\n",
    "                                        replace = True)\n",
    "        \n",
    "        # Append sample to list.\n",
    "        output.append(bootstrapped_sample)\n",
    "        \n",
    "    # Returns num_B bootstrapped samples in list.\n",
    "    return output"
   ]
  },
  {
   "cell_type": "code",
   "execution_count": 83,
   "metadata": {
    "scrolled": true
   },
   "outputs": [
    {
     "data": {
      "image/png": "[encoded data removed]",
      "text/plain": [
       "<Figure size 648x432 with 1 Axes>"
      ]
     },
     "metadata": {
      "needs_background": "light"
     },
     "output_type": "display_data"
    },
    {
     "data": {
      "image/png": "[encoded data removed]",
      "text/plain": [
       "<Figure size 648x432 with 1 Axes>"
      ]
     },
     "metadata": {
      "needs_background": "light"
     },
     "output_type": "display_data"
    },
    {
     "data": {
      "image/png": "[encoded data removed]",
      "text/plain": [
       "<Figure size 648x432 with 1 Axes>"
      ]
     },
     "metadata": {
      "needs_background": "light"
     },
     "output_type": "display_data"
    },
    {
     "data": {
      "image/png": "[encoded data removed]",
      "text/plain": [
       "<Figure size 648x432 with 1 Axes>"
      ]
     },
     "metadata": {
      "needs_background": "light"
     },
     "output_type": "display_data"
    },
    {
     "data": {
      "image/png": "[encoded data removed]",
      "text/plain": [
       "<Figure size 648x432 with 1 Axes>"
      ]
     },
     "metadata": {
      "needs_background": "light"
     },
     "output_type": "display_data"
    }
   ],
   "source": [
    "# visualize our bootstrapped samples\n",
    "\n",
    "# Set seed for reproducibility.\n",
    "\n",
    "import numpy as np\n",
    "\n",
    "np.random.seed(42)\n",
    "\n",
    "# Generate five bootstrapped samples from X_train.\n",
    "\n",
    "boot_samp = bootstrap(X_train, 5)\n",
    "\n",
    "# Plot label level for each bootstrapped sample.\n",
    "\n",
    "for num in range(5):\n",
    "    plt.figure(figsize = (9,6))\n",
    "    plt.hist(boot_samp[num]['label'])\n",
    "    plt.title(f'Bootstrapped Sample {num + 1} of label Level');"
   ]
  },
  {
   "cell_type": "markdown",
   "metadata": {},
   "source": [
    "**Note**: I want to define a function and see the result for each model on different forms."
   ]
  },
  {
   "cell_type": "code",
   "execution_count": 93,
   "metadata": {},
   "outputs": [],
   "source": [
    "from sklearn import metrics\n",
    "from sklearn.model_selection import StratifiedKFold"
   ]
  },
  {
   "cell_type": "code",
   "execution_count": 138,
   "metadata": {},
   "outputs": [],
   "source": [
    "def classification_model(model, data, features, target):\n",
    "    \n",
    "  # Fit the model:\n",
    "\n",
    "  model.fit(data[features],data[target])\n",
    "  \n",
    "  # Make predictions on train dataset:\n",
    "    \n",
    "  predictions = model.predict(data[features])\n",
    "  \n",
    "  # Print accuracy;\n",
    "\n",
    "  accuracy = metrics.accuracy_score(predictions,data[target])\n",
    "  print(\"Accuracy is : %s\" % \"{0:.3%}\".format(accuracy))\n",
    "\n",
    "  # Perform cross-validation with 5 folds;\n",
    "     \n",
    "  stra_kf = StratifiedKFold(n_splits = 5)\n",
    "  print(stra_kf.get_n_splits())  \n",
    "    \n",
    "  error = []\n",
    "\n",
    "  StratifiedKFold()  \n",
    "    \n",
    "  for train, test in stra_kf.split(df[features], df[target]):\n",
    "    \n",
    "    # Filter training data\n",
    "    \n",
    "    train_features = (data[features].iloc[train, : ])\n",
    "    \n",
    "    # The target we're using to train the algorithm. \n",
    "    \n",
    "    train_target = data[target].iloc[train]\n",
    "    \n",
    "    # Training the algorithm using the predictors and target.\n",
    "    \n",
    "    model.fit(train_features, train_target)\n",
    "    \n",
    "    # Record error from each cross-validation run\n",
    "    \n",
    "    error.append(model.score(data[features].iloc[test, : ], data[target].iloc[test]))\n",
    "    \n",
    "    print(\"Cross-Validation Score is : %s\" % \"{0:.3%}\".format(np.mean(error)))\n",
    "    \n",
    "  # Fit the model again so that it can be refered outside the function:\n",
    "\n",
    "  model.fit(data[features],data[target]) "
   ]
  },
  {
   "cell_type": "code",
   "execution_count": 139,
   "metadata": {},
   "outputs": [
    {
     "name": "stdout",
     "output_type": "stream",
     "text": [
      "Accuracy is : 89.807%\n",
      "5\n",
      "Cross-Validation Score is : 83.333%\n",
      "Cross-Validation Score is : 85.965%\n",
      "Cross-Validation Score is : 87.427%\n",
      "Cross-Validation Score is : 88.816%\n",
      "Cross-Validation Score is : 89.283%\n"
     ]
    }
   ],
   "source": [
    "features = ['radius ','perimeter','area','compactness ','concave  ', 'points']\n",
    "target = 'label'\n",
    "model = LogisticRegression()\n",
    "classification_model(model, df, features, target)"
   ]
  },
  {
   "cell_type": "markdown",
   "metadata": {},
   "source": [
    "**Note**: The prediction accuracy is reasonable. in below cell I am going use on feature as I already told."
   ]
  },
  {
   "cell_type": "code",
   "execution_count": 140,
   "metadata": {},
   "outputs": [
    {
     "name": "stdout",
     "output_type": "stream",
     "text": [
      "Accuracy is : 87.873%\n",
      "5\n",
      "Cross-Validation Score is : 82.456%\n",
      "Cross-Validation Score is : 83.772%\n",
      "Cross-Validation Score is : 85.088%\n",
      "Cross-Validation Score is : 86.623%\n",
      "Cross-Validation Score is : 87.174%\n"
     ]
    }
   ],
   "source": [
    "features = ['radius ']\n",
    "target = 'label'\n",
    "model = LogisticRegression()\n",
    "classification_model(model, df, features, target)"
   ]
  },
  {
   "cell_type": "markdown",
   "metadata": {},
   "source": [
    "**Note**: Almost the same prediction accuracy cross validation score."
   ]
  },
  {
   "cell_type": "code",
   "execution_count": 147,
   "metadata": {},
   "outputs": [
    {
     "name": "stdout",
     "output_type": "stream",
     "text": [
      "Accuracy is : 95.782%\n",
      "5\n",
      "Cross-Validation Score is : 78.947%\n",
      "Cross-Validation Score is : 80.702%\n",
      "Cross-Validation Score is : 81.871%\n",
      "Cross-Validation Score is : 82.675%\n",
      "Cross-Validation Score is : 82.601%\n"
     ]
    }
   ],
   "source": [
    "from sklearn.ensemble import RandomForestClassifier\n",
    "\n",
    "features =  ['radius ']\n",
    "target = 'label'\n",
    "model = RandomForestClassifier(n_estimators = 100)\n",
    "classification_model(model, df, features, target)"
   ]
  },
  {
   "cell_type": "code",
   "execution_count": 148,
   "metadata": {},
   "outputs": [
    {
     "name": "stdout",
     "output_type": "stream",
     "text": [
      "Accuracy is : 94.728%\n",
      "5\n",
      "Cross-Validation Score is : 86.842%\n",
      "Cross-Validation Score is : 89.912%\n",
      "Cross-Validation Score is : 91.228%\n",
      "Cross-Validation Score is : 92.544%\n",
      "Cross-Validation Score is : 92.973%\n"
     ]
    }
   ],
   "source": [
    "features =  ['radius ','perimeter','area','compactness ','concave  ', 'points', 'concavity']\n",
    "               \n",
    "target = 'label'\n",
    "model = RandomForestClassifier(n_estimators = 100, min_samples_split = 25, max_depth = 7, max_features = 2)\n",
    "classification_model(model, df, features, target)    "
   ]
  },
  {
   "cell_type": "code",
   "execution_count": 146,
   "metadata": {},
   "outputs": [
    {
     "name": "stdout",
     "output_type": "stream",
     "text": [
      "Accuracy is : 95.958%\n",
      "5\n",
      "Cross-Validation Score is : 88.596%\n",
      "Cross-Validation Score is : 91.667%\n",
      "Cross-Validation Score is : 92.105%\n",
      "Cross-Validation Score is : 92.763%\n",
      "Cross-Validation Score is : 92.972%\n"
     ]
    }
   ],
   "source": [
    "features =  ['radius ','perimeter','area','compactness ','concave  ', 'points', 'texture', 'symmetry', 'concavity', 'fractal', \n",
    "             'smoothness ', ' dimension']\n",
    "target = 'label'\n",
    "model = RandomForestClassifier(n_estimators = 100, min_samples_split = 25, max_depth = 7, max_features = 2)\n",
    "classification_model(model, df, features, target)"
   ]
  },
  {
   "cell_type": "markdown",
   "metadata": {},
   "source": [
    "**Note**: Adding more and more features improves the prediction accuracy. The cross validation score is so great."
   ]
  },
  {
   "cell_type": "code",
   "execution_count": 142,
   "metadata": {},
   "outputs": [
    {
     "name": "stdout",
     "output_type": "stream",
     "text": [
      "Accuracy is : 100.000%\n",
      "5\n",
      "Cross-Validation Score is : 86.842%\n",
      "Cross-Validation Score is : 86.404%\n",
      "Cross-Validation Score is : 88.012%\n",
      "Cross-Validation Score is : 88.816%\n",
      "Cross-Validation Score is : 89.460%\n"
     ]
    }
   ],
   "source": [
    "features = ['radius ','perimeter','area','compactness ','concave  ', 'points']\n",
    "target = 'label'\n",
    "model = DecisionTreeClassifier()\n",
    "classification_model(model, df, features, target)"
   ]
  },
  {
   "cell_type": "code",
   "execution_count": 144,
   "metadata": {},
   "outputs": [
    {
     "name": "stdout",
     "output_type": "stream",
     "text": [
      "Accuracy is : 95.782%\n",
      "5\n",
      "Cross-Validation Score is : 78.947%\n",
      "Cross-Validation Score is : 80.702%\n",
      "Cross-Validation Score is : 81.871%\n",
      "Cross-Validation Score is : 82.895%\n",
      "Cross-Validation Score is : 82.953%\n"
     ]
    }
   ],
   "source": [
    "features = ['radius ']\n",
    "target = 'label'\n",
    "model = DecisionTreeClassifier()\n",
    "classification_model(model, df, features, target)"
   ]
  },
  {
   "cell_type": "markdown",
   "metadata": {},
   "source": [
    "**Note**: More features show an evidence of overfitting and only one feature result for accuracy score is much better. But cross validation score in sot great."
   ]
  },
  {
   "cell_type": "markdown",
   "metadata": {},
   "source": [
    "**Conclusion**: The best model for calssification would be RandomForest in this case. It gives nearly 96% for accuracy prediction and 93% for cross validation."
   ]
  },
  {
   "cell_type": "code",
   "execution_count": null,
   "metadata": {},
   "outputs": [],
   "source": []
  }
 ],
 "metadata": {
  "kernelspec": {
   "display_name": "Python 3",
   "language": "python",
   "name": "python3"
  },
  "language_info": {
   "codemirror_mode": {
    "name": "ipython",
    "version": 3
   },
   "file_extension": ".py",
   "mimetype": "text/x-python",
   "name": "python",
   "nbconvert_exporter": "python",
   "pygments_lexer": "ipython3",
   "version": "3.7.3"
  },
  "toc": {
   "base_numbering": 1,
   "nav_menu": {},
   "number_sections": true,
   "sideBar": true,
   "skip_h1_title": false,
   "title_cell": "Table of Contents",
   "title_sidebar": "Contents",
   "toc_cell": false,
   "toc_position": {},
   "toc_section_display": true,
   "toc_window_display": false
  }
 },
 "nbformat": 4,
 "nbformat_minor": 2
}
